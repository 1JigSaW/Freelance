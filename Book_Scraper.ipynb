{
 "cells": [
  {
   "cell_type": "code",
   "execution_count": 108,
   "metadata": {},
   "outputs": [],
   "source": [
    "from bs4 import BeautifulSoup\n",
    "import requests\n",
    "import pandas as pd"
   ]
  },
  {
   "cell_type": "markdown",
   "metadata": {},
   "source": [
    "## 2.1. Напишите функцию, которая разбирает и отбрасывает одну страницу и возвращает список словарей с названием и ценой каждой книги. "
   ]
  },
  {
   "cell_type": "code",
   "execution_count": 109,
   "metadata": {},
   "outputs": [
    {
     "name": "stdout",
     "output_type": "stream",
     "text": [
      "[{'Title': 'A Light in the Attic', 'Cost': '£51.77'}, {'Title': 'Tipping the Velvet', 'Cost': '£53.74'}, {'Title': 'Soumission', 'Cost': '£50.10'}, {'Title': 'Sharp Objects', 'Cost': '£47.82'}, {'Title': 'Sapiens: A Brief History of Humankind', 'Cost': '£54.23'}, {'Title': 'The Requiem Red', 'Cost': '£22.65'}, {'Title': 'The Dirty Little Secrets of Getting Your Dream Job', 'Cost': '£33.34'}, {'Title': 'The Coming Woman: A Novel Based on the Life of the Infamous Feminist, Victoria Woodhull', 'Cost': '£17.93'}, {'Title': 'The Boys in the Boat: Nine Americans and Their Epic Quest for Gold at the 1936 Berlin Olympics', 'Cost': '£22.60'}, {'Title': 'The Black Maria', 'Cost': '£52.15'}, {'Title': 'Starving Hearts (Triangular Trade Trilogy, #1)', 'Cost': '£13.99'}, {'Title': \"Shakespeare's Sonnets\", 'Cost': '£20.66'}, {'Title': 'Set Me Free', 'Cost': '£17.46'}, {'Title': \"Scott Pilgrim's Precious Little Life (Scott Pilgrim #1)\", 'Cost': '£52.29'}, {'Title': 'Rip it Up and Start Again', 'Cost': '£35.02'}, {'Title': 'Our Band Could Be Your Life: Scenes from the American Indie Underground, 1981-1991', 'Cost': '£57.25'}, {'Title': 'Olio', 'Cost': '£23.88'}, {'Title': 'Mesaerion: The Best Science Fiction Stories 1800-1849', 'Cost': '£37.59'}, {'Title': 'Libertarianism for Beginners', 'Cost': '£51.33'}, {'Title': \"It's Only the Himalayas\", 'Cost': '£45.17'}]\n"
     ]
    }
   ],
   "source": [
    "def first_page(url):\n",
    "    arr = []\n",
    "    finalurl = url.format(url)\n",
    "    res = requests.get(finalurl).text\n",
    "    soup = BeautifulSoup(res,'html.parser')\n",
    "    for t, c in zip(soup.select('.image_container >a>img'), soup.select('p.price_color')):\n",
    "        y = {'Title': t['alt'], 'Cost': c.text[1:]}\n",
    "        arr.append(y)\n",
    "    return arr\n",
    "\n",
    "\n",
    "print(first_page('http://books.toscrape.com/catalogue/page-1.html'))"
   ]
  },
  {
   "cell_type": "markdown",
   "metadata": {},
   "source": [
    "## 2.2. Скачать первые 100 книг с прогресс-баром из tqdm. "
   ]
  },
  {
   "cell_type": "code",
   "execution_count": 129,
   "metadata": {},
   "outputs": [
    {
     "name": "stderr",
     "output_type": "stream",
     "text": [
      "100%|████████████████████████████████████████████████████████████████████████████████| 100/100 [00:11<00:00,  9.09it/s]\n"
     ]
    }
   ],
   "source": [
    "import time\n",
    "from tqdm import tqdm\n",
    "\n",
    "arr = []\n",
    "count = 0\n",
    "i = 0\n",
    "n = 100\n",
    "while True:\n",
    "    if count == n:\n",
    "            break\n",
    "    i += 1\n",
    "    url = f'http://books.toscrape.com/catalogue/page-{i}.html'\n",
    "    finalurl = url.format(url)\n",
    "    res = requests.get(finalurl).text\n",
    "    soup = BeautifulSoup(res,'html.parser')\n",
    "    for t, c in zip(soup.select('.image_container >a>img'), soup.select('p.price_color')):\n",
    "        y = {'Title': t['alt'], 'Cost': c.text[1:]}\n",
    "        count += 1\n",
    "        arr.append(y)\n",
    "\n",
    "for i in tqdm(arr):\n",
    "    time.sleep(0.1)"
   ]
  },
  {
   "cell_type": "markdown",
   "metadata": {},
   "source": [
    "## 2.3 Сохраните в DataFrame."
   ]
  },
  {
   "cell_type": "code",
   "execution_count": 121,
   "metadata": {},
   "outputs": [],
   "source": [
    "title = [i['Title'] for i in arr]\n",
    "cost = [i['Cost'] for i in arr]"
   ]
  },
  {
   "cell_type": "code",
   "execution_count": 122,
   "metadata": {},
   "outputs": [
    {
     "data": {
      "text/html": [
       "<div>\n",
       "<style scoped>\n",
       "    .dataframe tbody tr th:only-of-type {\n",
       "        vertical-align: middle;\n",
       "    }\n",
       "\n",
       "    .dataframe tbody tr th {\n",
       "        vertical-align: top;\n",
       "    }\n",
       "\n",
       "    .dataframe thead th {\n",
       "        text-align: right;\n",
       "    }\n",
       "</style>\n",
       "<table border=\"1\" class=\"dataframe\">\n",
       "  <thead>\n",
       "    <tr style=\"text-align: right;\">\n",
       "      <th></th>\n",
       "      <th>Title</th>\n",
       "      <th>Cost</th>\n",
       "    </tr>\n",
       "  </thead>\n",
       "  <tbody>\n",
       "    <tr>\n",
       "      <th>0</th>\n",
       "      <td>A Light in the Attic</td>\n",
       "      <td>£51.77</td>\n",
       "    </tr>\n",
       "    <tr>\n",
       "      <th>1</th>\n",
       "      <td>Tipping the Velvet</td>\n",
       "      <td>£53.74</td>\n",
       "    </tr>\n",
       "    <tr>\n",
       "      <th>2</th>\n",
       "      <td>Soumission</td>\n",
       "      <td>£50.10</td>\n",
       "    </tr>\n",
       "    <tr>\n",
       "      <th>3</th>\n",
       "      <td>Sharp Objects</td>\n",
       "      <td>£47.82</td>\n",
       "    </tr>\n",
       "    <tr>\n",
       "      <th>4</th>\n",
       "      <td>Sapiens: A Brief History of Humankind</td>\n",
       "      <td>£54.23</td>\n",
       "    </tr>\n",
       "    <tr>\n",
       "      <th>...</th>\n",
       "      <td>...</td>\n",
       "      <td>...</td>\n",
       "    </tr>\n",
       "    <tr>\n",
       "      <th>95</th>\n",
       "      <td>Lumberjanes Vol. 3: A Terrible Plan (Lumberjan...</td>\n",
       "      <td>£19.92</td>\n",
       "    </tr>\n",
       "    <tr>\n",
       "      <th>96</th>\n",
       "      <td>Layered: Baking, Building, and Styling Spectac...</td>\n",
       "      <td>£40.11</td>\n",
       "    </tr>\n",
       "    <tr>\n",
       "      <th>97</th>\n",
       "      <td>Judo: Seven Steps to Black Belt (an Introducto...</td>\n",
       "      <td>£53.90</td>\n",
       "    </tr>\n",
       "    <tr>\n",
       "      <th>98</th>\n",
       "      <td>Join</td>\n",
       "      <td>£35.67</td>\n",
       "    </tr>\n",
       "    <tr>\n",
       "      <th>99</th>\n",
       "      <td>In the Country We Love: My Family Divided</td>\n",
       "      <td>£22.00</td>\n",
       "    </tr>\n",
       "  </tbody>\n",
       "</table>\n",
       "<p>100 rows × 2 columns</p>\n",
       "</div>"
      ],
      "text/plain": [
       "                                                Title    Cost\n",
       "0                                A Light in the Attic  £51.77\n",
       "1                                  Tipping the Velvet  £53.74\n",
       "2                                          Soumission  £50.10\n",
       "3                                       Sharp Objects  £47.82\n",
       "4               Sapiens: A Brief History of Humankind  £54.23\n",
       "..                                                ...     ...\n",
       "95  Lumberjanes Vol. 3: A Terrible Plan (Lumberjan...  £19.92\n",
       "96  Layered: Baking, Building, and Styling Spectac...  £40.11\n",
       "97  Judo: Seven Steps to Black Belt (an Introducto...  £53.90\n",
       "98                                               Join  £35.67\n",
       "99          In the Country We Love: My Family Divided  £22.00\n",
       "\n",
       "[100 rows x 2 columns]"
      ]
     },
     "execution_count": 122,
     "metadata": {},
     "output_type": "execute_result"
    }
   ],
   "source": [
    "df = pd.DataFrame({\"Title\": title, \"Cost\": cost})\n",
    "df"
   ]
  },
  {
   "cell_type": "markdown",
   "metadata": {},
   "source": [
    "## 2.4. Рассчитать среднюю цену этих книг."
   ]
  },
  {
   "cell_type": "code",
   "execution_count": 123,
   "metadata": {},
   "outputs": [],
   "source": [
    "df['Cost'] = df['Cost'].str[1:]"
   ]
  },
  {
   "cell_type": "code",
   "execution_count": 127,
   "metadata": {},
   "outputs": [
    {
     "data": {
      "text/plain": [
       "0     51.77\n",
       "1     53.74\n",
       "2     50.10\n",
       "3     47.82\n",
       "4     54.23\n",
       "      ...  \n",
       "95    19.92\n",
       "96    40.11\n",
       "97    53.90\n",
       "98    35.67\n",
       "99    22.00\n",
       "Name: Cost, Length: 100, dtype: float64"
      ]
     },
     "execution_count": 127,
     "metadata": {},
     "output_type": "execute_result"
    }
   ],
   "source": [
    "df['Cost'] = df['Cost'].astype(float)\n",
    "pd.to_numeric(df['Cost'])"
   ]
  },
  {
   "cell_type": "code",
   "execution_count": 128,
   "metadata": {},
   "outputs": [
    {
     "data": {
      "text/plain": [
       "34.560700000000004"
      ]
     },
     "execution_count": 128,
     "metadata": {},
     "output_type": "execute_result"
    }
   ],
   "source": [
    "df['Cost'].mean()"
   ]
  },
  {
   "cell_type": "markdown",
   "metadata": {},
   "source": [
    "#### Ответ: средняя цена этих книг = 34.56"
   ]
  }
 ],
 "metadata": {
  "kernelspec": {
   "display_name": "Python 3",
   "language": "python",
   "name": "python3"
  },
  "language_info": {
   "codemirror_mode": {
    "name": "ipython",
    "version": 3
   },
   "file_extension": ".py",
   "mimetype": "text/x-python",
   "name": "python",
   "nbconvert_exporter": "python",
   "pygments_lexer": "ipython3",
   "version": "3.8.3"
  }
 },
 "nbformat": 4,
 "nbformat_minor": 4
}
