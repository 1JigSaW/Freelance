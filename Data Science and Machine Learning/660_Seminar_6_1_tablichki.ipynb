{
 "cells": [
  {
   "cell_type": "markdown",
   "metadata": {},
   "source": [
    "## Задание 1 "
   ]
  },
  {
   "cell_type": "markdown",
   "metadata": {},
   "source": [
    "* размер датафрейма: **(32, 13)**\n",
    "* загрузка датафрейма через **ссылку**!\n",
    "* обратите внимание на **разделитель** в файле csv"
   ]
  },
  {
   "cell_type": "markdown",
   "metadata": {},
   "source": [
    "Первые пять строк датафрейма\n",
    "\n",
    "|    | car                | mpg   |   cyl |   disp |   hp | drat   | wt    | qsec   |   vs |   am |   gear |   carb |   price |\n",
    "|---:|:-------------------|:------|------:|-------:|-----:|:-------|:------|:-------|-----:|-----:|-------:|-------:|--------:|\n",
    "| 22 | AMC Javelin        | 15,2  |     8 |    304 |  150 | 3,15   | 3,435 | 17,3   |    0 |    0 |      3 |      2 |   45669 |\n",
    "| 14 | Cadillac Fleetwood | 10,4  |     8 |    472 |  205 | 2,93   | 5,25  | 17,98  |    0 |    0 |      3 |      4 |   17391 |\n",
    "| 23 | Camaro Z28         | 13,3  |     8 |    350 |  245 | 3,73   | 3,84  | 15,41  |    0 |    0 |      3 |      4 |  625716 |\n",
    "| 16 | Chrysler Imperial  | 14,7  |     8 |    440 |  230 | 3,23   | 5,345 | 17,42  |    0 |    0 |      3 |      4 |  725606 |\n",
    "|  2 | Datsun 710         | 22,8  |     4 |    108 |   93 | 3,85   | 2,32  | 18,61  |    1 |    1 |      4 |      1 |  108594 |\n",
    "\n",
    "Последние пять строк датафрейма\n",
    "\n",
    "\n",
    "|    |                |       |       |        |      |        |       |        |      |      |        |        |         |\n",
    "|---:|:---------------|:------|------:|:-------|-----:|:-------|:------|:-------|-----:|-----:|-------:|-------:|--------:|\n",
    "| 26 | Porsche 914-2  | 26    |     4 | 120,3  |   91 | 4,43   | 2,14  | 16,7   |    0 |    1 |      5 |      2 |  773156 |\n",
    "| 19 | Toyota Corolla | 33,9  |     4 | 71,1   |   65 | 4,22   | 1,835 | 19,9   |    1 |    1 |      4 |      1 |  989456 |\n",
    "| 20 | Toyota Corona  | 21,5  |     4 | 120,1  |   97 | 3,7    | 2,465 | 20,01  |    1 |    0 |      3 |      1 |   88484 |\n",
    "|  5 | Valiant        | 18,1  |     6 | 225    |  105 | 2,76   | 3,46  | 20,22  |    1 |    0 |      3 |      1 |  916474 |\n",
    "| 31 | Volvo 142E     | 21,4  |     4 | 121    |  109 | 4,11   | 2,78  | 18,6   |    1 |    1 |      4 |      2 |  679235 |"
   ]
  },
  {
   "cell_type": "markdown",
   "metadata": {},
   "source": [
    "## Задание 2"
   ]
  },
  {
   "cell_type": "markdown",
   "metadata": {},
   "source": [
    "* Размер датафрейма **(27, 2)**\n",
    "\n",
    "\n",
    "Первые 5 строк датафрейма\n",
    "\n",
    "|    |   id | name     |\n",
    "|---:|-----:|:---------|\n",
    "|  0 |    1 | Гавриил  |\n",
    "|  1 |    2 | Гамлет   |\n",
    "|  2 |    3 | Гарри    |\n",
    "|  3 |    4 | Геннадий |\n",
    "|  4 |    5 | Генри    |\n",
    "\n",
    "Последние 5 строк датафрейма\n",
    "\n",
    "|    |      |          |\n",
    "|---:|-----:|:---------|\n",
    "| 22 |   23 | Гульмира |\n",
    "| 23 |   24 | Гульназ  |\n",
    "| 24 |   25 | Гульнара |\n",
    "| 25 |   26 | Гульшат  |\n",
    "| 26 |   27 | Гюзель   |"
   ]
  },
  {
   "cell_type": "markdown",
   "metadata": {},
   "source": [
    "## Задание 3"
   ]
  },
  {
   "cell_type": "markdown",
   "metadata": {},
   "source": [
    "* Изучите консоль разработчика (**F12**)\n",
    "* Обратите внимание на данные, которые к Вам придут \n",
    "* Размер датафрейма **(23, 5)**\n",
    "\n",
    "Первые пять строк датафрейма\n",
    "\n",
    "|    |   id | best_1        | best_2             | best_3              |   budget |\n",
    "|---:|-----:|:--------------|:-------------------|:--------------------|---------:|\n",
    "|  0 |    1 | Fiat X1-9     | Fiat 128           | Lincoln Continental |   946004 |\n",
    "|  1 |    2 | Volvo 142E    | Hornet Sportabout  | Merc 280C           |   170866 |\n",
    "|  2 |    3 | Valiant       | Cadillac Fleetwood | Maserati Bora       |   916474 |\n",
    "|  3 |    4 | Mazda RX4 Wag | Ford Pantera L     | Pontiac Firebird    |   687138 |\n",
    "|  4 |    5 | AMC Javelin   | Valiant            | Merc 450SL          |    19963 |\n",
    "\n",
    "\n",
    "Последние пять строк датафрейма \n",
    "\n",
    "|    |      |                   |               |                  |          |\n",
    "|---:|-----:|:------------------|:--------------|:-----------------|---------:|\n",
    "| 18 |   23 | Hornet Sportabout | AMC Javelin   | Fiat 128         |   206927 |\n",
    "| 19 |   24 | Hornet 4 Drive    | Mazda RX4     | Dodge Challenger |   196018 |\n",
    "| 20 |   25 | Mazda RX4         | Maserati Bora | Merc 240D        |   602062 |\n",
    "| 21 |   26 | Camaro Z28        | Camaro Z28    | AMC Javelin      |   974287 |\n",
    "| 22 |   27 | Ferrari Dino      | Honda Civic   | Toyota Corolla   |   579427 |"
   ]
  },
  {
   "cell_type": "markdown",
   "metadata": {},
   "source": [
    "## Задание 4"
   ]
  },
  {
   "cell_type": "markdown",
   "metadata": {},
   "source": [
    "* Размер датафрейма **(23, 6)**\n",
    "\n",
    "|    |   id | name      | best_1              | best_2              | best_3              |   budget |\n",
    "|---:|-----:|:----------|:--------------------|:--------------------|:--------------------|---------:|\n",
    "|  0 |    1 | Гавриил   | Fiat X1-9           | Fiat 128            | Lincoln Continental |   946004 |\n",
    "|  1 |    2 | Гамлет    | Volvo 142E          | Hornet Sportabout   | Merc 280C           |   170866 |\n",
    "|  2 |    3 | Гарри     | Valiant             | Cadillac Fleetwood  | Maserati Bora       |   916474 |\n",
    "|  3 |    4 | Геннадий  | Mazda RX4 Wag       | Ford Pantera L      | Pontiac Firebird    |   687138 |\n",
    "|  4 |    5 | Генри     | AMC Javelin         | Valiant             | Merc 450SL          |    19963 |\n",
    "|  5 |    6 | Генрих    | Lincoln Continental | Merc 450SL          | Mazda RX4           |   676998 |\n",
    "|  6 |    7 | Георгий   | Merc 280C           | Chrysler Imperial   | Cadillac Fleetwood  |   808545 |\n",
    "|  7 |    8 | Герасим   | Merc 450SLC         | Toyota Corona       | Valiant             |   894444 |\n",
    "|  8 |    9 | Герман    | Merc 280C           | Porsche 914-2       | Honda Civic         |   980920 |\n",
    "|  9 |   10 | Германн   | Toyota Corona       | Merc 240D           | Hornet 4 Drive      |   496292 |\n",
    "| 10 |   11 | Глеб      | Honda Civic         | Ferrari Dino        | Datsun 710          |    84219 |\n",
    "| 11 |   12 | Гордей    | Merc 240D           | Toyota Corolla      | Merc 230            |   601815 |\n",
    "| 12 |   14 | Галина    | Lotus Europa        | Merc 280C           | Toyota Corona       |   237040 |\n",
    "| 13 |   18 | Генриетта | Merc 450SE          | Lincoln Continental | Merc 280            |   756025 |\n",
    "| 14 |   19 | Глафира   | Duster 360          | Mazda RX4 Wag       | Merc 450SE          |   183390 |\n",
    "| 15 |   20 | Гоар      | Chrysler Imperial   | Merc 450SE          | Duster 360          |   626487 |\n",
    "| 16 |   21 | Грета     | Merc 280C           | Merc 280            | Camaro Z28          |   121736 |\n",
    "| 17 |   22 | Гульзира  | Merc 450SLC         | Datsun 710          | Ferrari Dino        |   554229 |\n",
    "| 18 |   23 | Гульмира  | Hornet Sportabout   | AMC Javelin         | Fiat 128            |   206927 |\n",
    "| 19 |   24 | Гульназ   | Hornet 4 Drive      | Mazda RX4           | Dodge Challenger    |   196018 |\n",
    "| 20 |   25 | Гульнара  | Mazda RX4           | Maserati Bora       | Merc 240D           |   602062 |\n",
    "| 21 |   26 | Гульшат   | Camaro Z28          | Camaro Z28          | AMC Javelin         |   974287 |\n",
    "| 22 |   27 | Гюзель    | Ferrari Dino        | Honda Civic         | Toyota Corolla      |   579427 |"
   ]
  },
  {
   "cell_type": "markdown",
   "metadata": {},
   "source": [
    "## Задание 5"
   ]
  },
  {
   "cell_type": "markdown",
   "metadata": {},
   "source": [
    "* Размер датафрейма **(23, 5)**\n",
    "\n",
    "|    |   id | best_1              |   budget |   price | can_buy   |\n",
    "|---:|-----:|:--------------------|---------:|--------:|:----------|\n",
    "|  0 |    1 | Fiat X1-9           |   946004 |  913026 | True      |\n",
    "|  1 |    2 | Volvo 142E          |   170866 |  679235 | False     |\n",
    "|  2 |    3 | Valiant             |   916474 |  916474 | True      |\n",
    "|  3 |    4 | Mazda RX4 Wag       |   687138 |  748967 | False     |\n",
    "|  4 |    5 | AMC Javelin         |    19963 |   45669 | False     |\n",
    "|  5 |    6 | Lincoln Continental |   676998 |  305524 | True      |\n",
    "|  6 |    7 | Merc 280C           |   808545 |  104349 | True      |\n",
    "|  7 |    8 | Merc 450SLC         |   894444 |  456341 | True      |\n",
    "|  8 |    9 | Merc 280C           |   980920 |  104349 | True      |\n",
    "|  9 |   10 | Toyota Corona       |   496292 |   88484 | True      |\n",
    "| 10 |   11 | Honda Civic         |    84219 |  948483 | False     |\n",
    "| 11 |   12 | Merc 240D           |   601815 |  354182 | True      |\n",
    "| 12 |   14 | Lotus Europa        |   237040 |  894906 | False     |\n",
    "| 13 |   18 | Merc 450SE          |   756025 |  776688 | False     |\n",
    "| 14 |   19 | Duster 360          |   183390 |  329684 | False     |\n",
    "| 15 |   20 | Chrysler Imperial   |   626487 |  725606 | False     |\n",
    "| 16 |   21 | Merc 280C           |   121736 |  104349 | True      |\n",
    "| 17 |   22 | Merc 450SLC         |   554229 |  456341 | True      |\n",
    "| 18 |   23 | Hornet Sportabout   |   206927 |  744261 | False     |\n",
    "| 19 |   24 | Hornet 4 Drive      |   196018 |  618537 | False     |\n",
    "| 20 |   25 | Mazda RX4           |   602062 |  665975 | False     |\n",
    "| 21 |   26 | Camaro Z28          |   974287 |  625716 | True      |\n",
    "| 22 |   27 | Ferrari Dino        |   579427 |  866343 | False     |"
   ]
  },
  {
   "cell_type": "markdown",
   "metadata": {},
   "source": [
    "## Задание 6"
   ]
  },
  {
   "cell_type": "markdown",
   "metadata": {},
   "source": [
    "* Размер датафрейма **(4, 2)**\n",
    "\n",
    "|    | name      |   id |\n",
    "|---:|:----------|-----:|\n",
    "| 12 | Габриэлла |   13 |\n",
    "| 14 | Галия     |   15 |\n",
    "| 15 | Гаяна     |   16 |\n",
    "| 16 | Гаянэ     |   17 |"
   ]
  },
  {
   "cell_type": "markdown",
   "metadata": {},
   "source": [
    "## Задание 7"
   ]
  },
  {
   "cell_type": "markdown",
   "metadata": {},
   "source": [
    "* Размер датафрейма **(32, 4)**\n",
    "\n",
    "|    | car                 |   n1 |   n2 |   n3 |\n",
    "|---:|:--------------------|-----:|-----:|-----:|\n",
    "|  0 | AMC Javelin         |    1 |    1 |    1 |\n",
    "|  1 | Cadillac Fleetwood  |    0 |    1 |    1 |\n",
    "|  2 | Camaro Z28          |    1 |    1 |    1 |\n",
    "|  3 | Chrysler Imperial   |    1 |    1 |    0 |\n",
    "|  4 | Datsun 710          |    0 |    1 |    1 |\n",
    "|  5 | Dodge Challenger    |    0 |    0 |    1 |\n",
    "|  6 | Duster 360          |    1 |    0 |    1 |\n",
    "|  7 | Ferrari Dino        |    1 |    1 |    1 |\n",
    "|  8 | Fiat 128            |    0 |    1 |    1 |\n",
    "|  9 | Fiat X1-9           |    1 |    0 |    0 |\n",
    "| 10 | Ford Pantera L      |    0 |    1 |    0 |\n",
    "| 11 | Honda Civic         |    1 |    1 |    1 |\n",
    "| 12 | Hornet 4 Drive      |    1 |    0 |    1 |\n",
    "| 13 | Hornet Sportabout   |    1 |    1 |    0 |\n",
    "| 14 | Lincoln Continental |    1 |    1 |    1 |\n",
    "| 15 | Lotus Europa        |    1 |    0 |    0 |\n",
    "| 16 | Maserati Bora       |    0 |    1 |    1 |\n",
    "| 17 | Mazda RX4           |    1 |    1 |    1 |\n",
    "| 18 | Mazda RX4 Wag       |    1 |    1 |    0 |\n",
    "| 19 | Merc 230            |    0 |    0 |    1 |\n",
    "| 20 | Merc 240D           |    1 |    1 |    1 |\n",
    "| 21 | Merc 280            |    0 |    1 |    1 |\n",
    "| 22 | Merc 280C           |    3 |    1 |    1 |\n",
    "| 23 | Merc 450SE          |    1 |    1 |    1 |\n",
    "| 24 | Merc 450SL          |    0 |    1 |    1 |\n",
    "| 25 | Merc 450SLC         |    2 |    0 |    0 |\n",
    "| 26 | Pontiac Firebird    |    0 |    0 |    1 |\n",
    "| 27 | Porsche 914-2       |    0 |    1 |    0 |\n",
    "| 28 | Toyota Corolla      |    0 |    1 |    1 |\n",
    "| 29 | Toyota Corona       |    1 |    1 |    1 |\n",
    "| 30 | Valiant             |    1 |    1 |    1 |\n",
    "| 31 | Volvo 142E          |    1 |    0 |    0 |"
   ]
  }
 ],
 "metadata": {
  "kernelspec": {
   "display_name": "Python 3",
   "language": "python",
   "name": "python3"
  },
  "language_info": {
   "codemirror_mode": {
    "name": "ipython",
    "version": 3
   },
   "file_extension": ".py",
   "mimetype": "text/x-python",
   "name": "python",
   "nbconvert_exporter": "python",
   "pygments_lexer": "ipython3",
   "version": "3.8.3"
  }
 },
 "nbformat": 4,
 "nbformat_minor": 5
}
