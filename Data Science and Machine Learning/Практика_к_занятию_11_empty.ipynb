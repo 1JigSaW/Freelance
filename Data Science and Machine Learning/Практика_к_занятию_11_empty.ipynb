{
  "cells": [
    {
      "cell_type": "markdown",
      "metadata": {
        "id": "pDrecLU-4QjS"
      },
      "source": [
        "# Практика"
      ]
    },
    {
      "cell_type": "markdown",
      "metadata": {
        "id": "gUvTNDlMaV-a"
      },
      "source": [
        "## Определение вероятности. События\n",
        "\n",
        "Требуется сгенерировать необходимые выборки и произвести по ним расчеты"
      ]
    },
    {
      "cell_type": "markdown",
      "metadata": {
        "id": "5V70InEBTgup"
      },
      "source": [
        "### Задача 1\n",
        "Брошено две монеты. Найти вероятность того, что монеты выпали разными сторонами"
      ]
    },
    {
      "cell_type": "code",
      "source": [
        "import pandas as pd\n",
        "import numpy as np\n",
        "from collections import namedtuple\n",
        "from sklearn.utils import shuffle\n",
        "import matplotlib.pyplot as plt\n",
        "import scipy.stats as sts"
      ],
      "metadata": {
        "id": "MlOLCkCtaAoO"
      },
      "execution_count": null,
      "outputs": []
    },
    {
      "cell_type": "code",
      "execution_count": null,
      "metadata": {
        "id": "88Iw-SL3jYQV",
        "colab": {
          "base_uri": "https://localhost:8080/"
        },
        "outputId": "de076ed1-805a-4969-d097-23973b24db33"
      },
      "outputs": [
        {
          "output_type": "stream",
          "name": "stdout",
          "text": [
            "Вероятность равна 0.49967\n"
          ]
        }
      ],
      "source": [
        "N = 100000\n",
        "count = 0\n",
        "for i in range(N):\n",
        "    coin1 = np.random.choice((\"Орел\", \"Решка\"), 1)\n",
        "    coin2 = np.random.choice((\"Орел\", \"Решка\"), 1)\n",
        "\n",
        "    if (coin1 == \"Орел\" and coin2 == \"Решка\") or (\n",
        "        coin1 == \"Решка\" and coin2 == \"Орел\"):\n",
        "        count += 1\n",
        "        \n",
        "print(f'Вероятность равна {count / N}')"
      ]
    },
    {
      "cell_type": "markdown",
      "metadata": {
        "id": "t0XOMos2Tl0e"
      },
      "source": [
        "### Задача 2\n",
        "Брошено три монеты. Описать множество всех элементарных событий. Найти вероятности следующих событий:\n",
        "\n",
        "\n",
        "1.   A = {не выпало ни одного герба}\n",
        "2.   B = {выпало четное число гербов}\n",
        "3.   C = {на третьей монете выпал герб}\n"
      ]
    },
    {
      "cell_type": "code",
      "execution_count": null,
      "metadata": {
        "id": "o7NjAE9uUo-L",
        "colab": {
          "base_uri": "https://localhost:8080/"
        },
        "outputId": "9efff132-60c7-47ba-e0cc-570046f2fb8b"
      },
      "outputs": [
        {
          "output_type": "stream",
          "name": "stdout",
          "text": [
            "Вероятность A равна 0.12256\n",
            "Вероятность B равна 0.4991\n",
            "Вероятность C равна 0.50107\n"
          ]
        }
      ],
      "source": [
        "N = 100000\n",
        "count1 = 0\n",
        "count2 = 0\n",
        "count3 = 0\n",
        "all = []\n",
        "for i in range(N):\n",
        "    coin1 = np.random.choice((\"Орел\", \"Решка\"), 1)\n",
        "    coin2 = np.random.choice((\"Орел\", \"Решка\"), 1)\n",
        "    coin3 = np.random.choice((\"Орел\", \"Решка\"), 1)\n",
        "\n",
        "    if (coin1 == \"Решка\" and coin2 == \"Решка\" and coin3 == \"Решка\"):\n",
        "        count1 += 1\n",
        "\n",
        "    if (coin1 == \"Решка\" and coin2 == \"Решка\" and coin3 == \"Решка\") or (\n",
        "        coin1 == \"Орел\" and coin2 == \"Орел\" and coin3 == \"Решка\"\n",
        "    ) or (\n",
        "        coin1 == \"Орел\" and coin2 == \"Решка\" and coin3 == \"Орел\"\n",
        "    ) or (\n",
        "        coin1 == \"Решка\" and coin2 == \"Орел\" and coin3 == \"Орел\"\n",
        "    ):\n",
        "        count2 += 1\n",
        "    \n",
        "    if (coin3 == \"Орел\"):\n",
        "        count3 += 1\n",
        "        \n",
        "print(f'Вероятность A равна {count1 / N}')\n",
        "print(f'Вероятность B равна {count2 / N}')\n",
        "print(f'Вероятность C равна {count3 / N}')"
      ]
    },
    {
      "cell_type": "markdown",
      "metadata": {
        "id": "2M04ulNoTuVb"
      },
      "source": [
        "Предлагается также решить задачи: \n",
        "\n",
        "### Задача 3\n",
        "Из двух претендентов E и L на ответственную должность три члена комиссии должны отобрать одного. Каждый член комиссии должен указать либо одного достойного, либо забраковать обоих. Претендент считается выбранным, если он был признана достойным хотя бы двумя членами комиссии.\n",
        "Найти вероятность событий:\n",
        "\n",
        "A = {рекомендован L}, B = {рекомендован E}\n"
      ]
    },
    {
      "cell_type": "code",
      "execution_count": null,
      "metadata": {
        "id": "ehlu3ngUTuVc",
        "colab": {
          "base_uri": "https://localhost:8080/"
        },
        "outputId": "182f4bc4-7251-4a81-bba8-38fa83f335ba"
      },
      "outputs": [
        {
          "output_type": "stream",
          "name": "stdout",
          "text": [
            "E =  0.2533\n",
            "L =  0.26\n"
          ]
        }
      ],
      "source": [
        "n = 10000\n",
        "E = 1\n",
        "L = 2\n",
        "array1 = np.random.randint(0, 3, n)\n",
        "array2 = np.random.randint(0, 3, n)\n",
        "array3 = np.random.randint(0, 3, n)\n",
        "\n",
        "concat_array = np.concatenate((array1.reshape(n, 1), \n",
        "                               array2.reshape(n, 1),\n",
        "                               array3.reshape(n, 1)), axis=1)\n",
        "\n",
        "print('E = ', len(np.where(np.sum(concat_array == E, axis=1) >= 2)[0]) / n)\n",
        "print('L = ', len(np.where(np.sum(concat_array == L, axis=1) >= 2)[0]) / n)"
      ]
    },
    {
      "cell_type": "markdown",
      "metadata": {
        "id": "peM38mVfYa5B"
      },
      "source": [
        "### Задача 4\n",
        "Брошено две игральных кости. Описать множество элементарных событий. Найти вероятности событий:\n",
        "\n",
        "A = {вышло две \"шестерки\"}\n",
        "\n",
        "B = {сумма выпавших очков не меньше 11}\n",
        "\n",
        "C = {не выпала ни одна \"шестерка\"}"
      ]
    },
    {
      "cell_type": "code",
      "execution_count": null,
      "metadata": {
        "id": "CHgwlTvHTuVc",
        "colab": {
          "base_uri": "https://localhost:8080/"
        },
        "outputId": "2928e259-28f0-43d3-efed-138aad9d5160"
      },
      "outputs": [
        {
          "output_type": "stream",
          "name": "stdout",
          "text": [
            "A = 0.02786\n",
            "B = 0.08356\n",
            "C = 0.69512\n"
          ]
        }
      ],
      "source": [
        "arr1 = [1,2,3,4,5,6]\n",
        "arr2 = [1,2,3,4,5,6]\n",
        "\n",
        "N = 100000\n",
        "count = 0\n",
        "count2 = 0\n",
        "count3 = 0\n",
        "for i in range(N):\n",
        "  cube1 = np.random.choice(arr1, 1)\n",
        "  cube2 = np.random.choice(arr2, 1)\n",
        "  if cube1 == 6 and cube2 == 6:\n",
        "    count += 1\n",
        "  if cube1 + cube2 >= 11:\n",
        "    count2 += 1\n",
        "  if cube1 != 6 and cube2 != 6:\n",
        "    count3 += 1\n",
        "\n",
        "print(f'A = {count/N}')\n",
        "print(f'B = {count2/N}')\n",
        "print(f'C = {count3/N}')"
      ]
    },
    {
      "cell_type": "markdown",
      "metadata": {
        "id": "f-Bi0p8haclB"
      },
      "source": [
        "## Вероятность суммы событий"
      ]
    },
    {
      "cell_type": "markdown",
      "metadata": {
        "id": "g7A7QlvGTnwZ"
      },
      "source": [
        "### Задача 5\n",
        "Брошены две игральные кости. Найти вероятность события D = {выпала хотя бы одна шестёрка}\n"
      ]
    },
    {
      "cell_type": "code",
      "execution_count": null,
      "metadata": {
        "id": "vjtTJN-kUp9D",
        "colab": {
          "base_uri": "https://localhost:8080/"
        },
        "outputId": "e9e6679a-cd2e-4b96-d0a7-999736d12217"
      },
      "outputs": [
        {
          "output_type": "stream",
          "name": "stdout",
          "text": [
            "0.30291\n"
          ]
        }
      ],
      "source": [
        "arr1 = [1,2,3,4,5,6]\n",
        "arr2 = [1,2,3,4,5,6]\n",
        "\n",
        "N = 100000\n",
        "count = 0\n",
        "for i in range(N):\n",
        "  cube1 = np.random.choice(arr1, 1)\n",
        "  cube2 = np.random.choice(arr2, 1)\n",
        "\n",
        "  if cube1 == 6 or cube2 == 6:\n",
        "    count += 1\n",
        "\n",
        "print(count/N)"
      ]
    },
    {
      "cell_type": "markdown",
      "metadata": {
        "id": "R1bYSzQQbC6I"
      },
      "source": [
        "Предлагается также решить задачи: \n",
        "\n",
        "### Задача 6\n",
        "В телефонном номере три последние цифры стерлись. Считая, что все возможные значения стершихся цифр равновероятны, найти вероятность событий:\n",
        "\n",
        "A = {Стерлись различные цифры},\n",
        "\n",
        "B = {Стерлись одинаковые цифры},\n",
        "\n",
        "C = {Среди стершихся цифр хотя бы две совпадают},\n",
        "\n",
        "D = {Среди стершихся цифр хотя бы две различны}\n"
      ]
    },
    {
      "cell_type": "code",
      "execution_count": null,
      "metadata": {
        "id": "2gM47Xm2TuVd",
        "colab": {
          "base_uri": "https://localhost:8080/"
        },
        "outputId": "89915ac0-cc26-4697-e47e-fd058d922eb7"
      },
      "outputs": [
        {
          "output_type": "stream",
          "name": "stdout",
          "text": [
            "A = 0.9903\n",
            "B = 0.0097\n",
            "C = 0.2793\n",
            "D = 0.9903\n"
          ]
        }
      ],
      "source": [
        "N = 100000\n",
        "\n",
        "arr1 = np.random.randint(0, 10, n)\n",
        "arr2 = np.random.randint(0, 10, n)\n",
        "arr3 = np.random.randint(0, 10, n)\n",
        "\n",
        "first_condition = [(6, 6)]\n",
        "second_condition = [(0, 0, 1), (0, 1, 0), (1, 0, 0)]\n",
        "third_condition = [(1, 1, 0)]\n",
        "\n",
        "concat_arr = np.concatenate((arr1.reshape(n, 1), \n",
        "                               arr2.reshape(n, 1),\n",
        "                               arr3.reshape(n, 1)), axis=1)\n",
        "\n",
        "filtered_arr1 = list(filter(lambda x: not (x[0] == x[1] and x[1] == x[2]) , concat_arr))\n",
        "filtered_arr2 = list(filter(lambda x: (x[0] == x[1] and x[1] == x[2]) , concat_arr))\n",
        "filtered_arr3 = list(filter(lambda x: (x[0] == x[1] or x[1] == x[2] or x[0] == x[2]) , concat_arr))\n",
        "filtered_arr4 = list(filter(lambda x: (x[0] != x[1] or x[1] != x[2] or x[0] != x[2]) , concat_arr))\n",
        "\n",
        "\n",
        "print('A =', len(filtered_arr1) / len(concat_arr))\n",
        "print('B =', len(filtered_arr2) / len(concat_arr))\n",
        "print('C =', len(filtered_arr3) / len(concat_arr))\n",
        "print('D =', len(filtered_arr4) / len(concat_arr))"
      ]
    },
    {
      "cell_type": "markdown",
      "metadata": {
        "id": "RnugkR8BalK_"
      },
      "source": [
        "## Случайные величины"
      ]
    },
    {
      "cell_type": "markdown",
      "metadata": {
        "id": "yLoZDZ17UVsp"
      },
      "source": [
        "### Задача 7\n",
        "В лотерее имеется 10 билетов, из которых один выигрышный. Размер выигрыша 10 ден. ед.; стоимость билета 1 ден ед. Найти закон распределения случайной величины X, равной чистому выигрышу участника лотереи, который вытаскивает билет первым."
      ]
    },
    {
      "cell_type": "code",
      "execution_count": null,
      "metadata": {
        "id": "oNk432sKUqzT",
        "colab": {
          "base_uri": "https://localhost:8080/",
          "height": 279
        },
        "outputId": "20990106-015b-4b59-9637-d053f2657f4e"
      },
      "outputs": [
        {
          "output_type": "display_data",
          "data": {
            "text/plain": [
              "<Figure size 432x288 with 1 Axes>"
            ],
            "image/png": "[encoded data removed]"
          },
          "metadata": {
            "needs_background": "light"
          }
        }
      ],
      "source": [
        "N = 10000\n",
        "array = np.array([shuffle([1,0,0,0,0,0,0,0,0,0]) for _ in range(N)])\n",
        "\n",
        "costs = np.arange(1, N+1)\n",
        "\n",
        "plt.plot(costs, np.cumsum(array[:, 0] * 10))\n",
        "plt.xlabel('Количество купленных билетов')\n",
        "plt.ylabel('Сумма выигрыша')\n",
        "plt.show()"
      ]
    },
    {
      "cell_type": "markdown",
      "metadata": {
        "id": "U-NK9liSbpvb"
      },
      "source": [
        "Предлагается также решить задачу: \n",
        "\n",
        "### Задача 8\n",
        "Брошены две игральные кости. Найти закон распределения случайной величины $X$, равной сумме выпавших очков. Найти вероятности событий ${X <= 4}$, ${X > 4}$"
      ]
    },
    {
      "cell_type": "code",
      "execution_count": null,
      "metadata": {
        "id": "tqmdqHa9TuVe",
        "colab": {
          "base_uri": "https://localhost:8080/"
        },
        "outputId": "f68d673f-33b1-41c5-e779-86b18afad7d5"
      },
      "outputs": [
        {
          "output_type": "stream",
          "name": "stdout",
          "text": [
            "0.1669\n",
            "0.8331\n"
          ]
        }
      ],
      "source": [
        "arr1 = [1,2,3,4,5,6]\n",
        "arr2 = [1,2,3,4,5,6]\n",
        "N = 100000\n",
        "c1 = 0\n",
        "c2 = 0\n",
        "for i in range(N):\n",
        "  cube1 = np.random.choice(arr1, 1)\n",
        "  cube2 = np.random.choice(arr2, 1)\n",
        "\n",
        "  if cube1 + cube2 <= 4:\n",
        "    c1 += 1\n",
        "  \n",
        "  if cube1 + cube2 > 4:\n",
        "    c2 += 1\n",
        "\n",
        "print(c1/N)\n",
        "print(c2/N)"
      ]
    },
    {
      "cell_type": "markdown",
      "metadata": {
        "id": "shgW4D83awjK"
      },
      "source": [
        "## Условные вероятности"
      ]
    },
    {
      "cell_type": "markdown",
      "metadata": {
        "id": "Fbu1RFZwWZrk"
      },
      "source": [
        "### Задача 9\n",
        "Из колоды (36 карт) вынимают последовательно без возвращения две карты. Найти вероятность того, что первой картой была шестерка, а второй — семерка. Найти условную вероятность того же события при условии, что обе карты бубновой масти.\n"
      ]
    },
    {
      "cell_type": "code",
      "execution_count": null,
      "metadata": {
        "id": "037o56awW9-E",
        "colab": {
          "base_uri": "https://localhost:8080/"
        },
        "outputId": "61f2af5b-4ae9-4348-8d36-5bf0ca1e66a7"
      },
      "outputs": [
        {
          "output_type": "stream",
          "name": "stdout",
          "text": [
            "Вероятность, что первая карта 6, а вторая 7: 0.018\n",
            "Вероятность, что две первые карты бубновые: 0.061\n"
          ]
        }
      ],
      "source": [
        "Card = namedtuple('Card', ['value', 'suit'])\n",
        "suits = ['hearts', 'diamonds', 'spades', 'clubs']\n",
        "cards = [Card(value, suit) for value in range(6, 15) for suit in suits]\n",
        "n = 1000\n",
        "first_card = '6'\n",
        "second_card  = '7'\n",
        "\n",
        "cards = np.array([shuffle([Card(value, suit) for value in range(6, 15) for suit in suits]) for _ in range(n)])\n",
        "\n",
        "\n",
        "print('Вероятность, что первая карта 6, а вторая 7:', \n",
        "      len(list(filter(lambda x: (x[0][0] == first_card and x[1][0] == second_card) , cards))) / n)\n",
        "\n",
        "\n",
        "print('Вероятность, что две первые карты бубновые:', \n",
        "      len(list(filter(lambda x: (x[0][1] == 'diamonds' and x[1][1] == 'diamonds') , cards))) / n)"
      ]
    },
    {
      "cell_type": "markdown",
      "metadata": {
        "id": "hNVxtaz5c57b"
      },
      "source": [
        "Предлагается также решить задачу: \n",
        "\n",
        "### Задача 10\n",
        "Из урны, содержащей два белых и три черных шара, последовательно извлекают два шара; вынутые шары не возвращаются. Если первый шар оказался черным, то перед вторым извлечением в урну добавляют белый шар. В противном случае состав оставшихся шаров не меняют. Найти вероятности событий:\n",
        "\n",
        "$A$ = {извлечены два белых шара},\n",
        "\n",
        "$B$ = {извлечены два черных шара}\n",
        "\n",
        "Указание. Пусть событие $C_1$ = {первый шар белый}, событие $C_2$ = {второй шар белый}. Тогда $A = C_1C_2$, $B = \\overline C_1 \\overline C_2$ "
      ]
    },
    {
      "cell_type": "code",
      "execution_count": null,
      "metadata": {
        "id": "WSLnhk2sdBt_",
        "colab": {
          "base_uri": "https://localhost:8080/"
        },
        "outputId": "2fd19fe5-3450-4c9d-892d-1053dd2c5a79"
      },
      "outputs": [
        {
          "output_type": "execute_result",
          "data": {
            "text/plain": [
              "0.093"
            ]
          },
          "metadata": {},
          "execution_count": 10
        }
      ],
      "source": [
        "A = ['w', 'w', 'b','b','b']\n",
        "B = ['w','b','b','b']\n",
        "c1 = np.random.choice(A, size = n)\n",
        "c2 = np.random.choice(B, size = n)\n",
        "df = pd.DataFrame(list(zip(c1,c2)), columns = ['Ball1', 'Ball2'])\n",
        "c = df[((df['Ball1'] == 'w') & (df['Ball2'] == 'w'))].shape[0] / n\n",
        "c"
      ]
    },
    {
      "cell_type": "code",
      "source": [
        "A = ['w', 'w', 'b','b','b']\n",
        "B = ['w', 'w', 'w','b','b']\n",
        "c1 = np.random.choice(A, size = n)\n",
        "c2 = np.random.choice(B, size = n)\n",
        "df = pd.DataFrame(list(zip(c1,c2)), columns = ['Ball1', 'Ball2'])\n",
        "c = df[((df['Ball1'] == 'b') & (df['Ball2'] == 'b'))].shape[0] / n\n",
        "c"
      ],
      "metadata": {
        "colab": {
          "base_uri": "https://localhost:8080/"
        },
        "id": "qJHzkp205nGH",
        "outputId": "c744f40e-c85d-4fae-9502-aac6ca781795"
      },
      "execution_count": null,
      "outputs": [
        {
          "output_type": "execute_result",
          "data": {
            "text/plain": [
              "0.2336"
            ]
          },
          "metadata": {},
          "execution_count": 11
        }
      ]
    }
  ],
  "metadata": {
    "colab": {
      "collapsed_sections": [],
      "name": "Практика_к_занятию_11 empty.ipynb",
      "provenance": []
    },
    "kernelspec": {
      "display_name": "Python 3",
      "language": "python",
      "name": "python3"
    },
    "language_info": {
      "codemirror_mode": {
        "name": "ipython",
        "version": 3
      },
      "file_extension": ".py",
      "mimetype": "text/x-python",
      "name": "python",
      "nbconvert_exporter": "python",
      "pygments_lexer": "ipython3",
      "version": "3.7.6"
    }
  },
  "nbformat": 4,
  "nbformat_minor": 0
}