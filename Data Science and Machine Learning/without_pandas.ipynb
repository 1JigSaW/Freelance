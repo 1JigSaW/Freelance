{
  "cells": [
    {
      "cell_type": "markdown",
      "source": [
        "[![Open In Colab](https://colab.research.google.com/assets/colab-badge.svg)](https://colab.research.google.com/github/da-python/python-for-data-analytics/blob/main/Lesson1/hometask/without_pandas.ipynb)"
      ],
      "metadata": {
        "collapsed": false,
        "pycharm": {
          "name": "#%% md\n"
        },
        "id": "qwPOxw1S0JBy"
      }
    },
    {
      "cell_type": "code",
      "execution_count": null,
      "outputs": [
        {
          "output_type": "execute_result",
          "data": {
            "text/plain": [
              "<IPython.lib.display.YouTubeVideo at 0x7f199ab11c10>"
            ],
            "text/html": [
              "\n",
              "        <iframe\n",
              "            width=\"800\"\n",
              "            height=\"300\"\n",
              "            src=\"https://www.youtube.com/embed/lyDLAutA88s\"\n",
              "            frameborder=\"0\"\n",
              "            allowfullscreen\n",
              "        ></iframe>\n",
              "        "
            ],
            "image/jpeg": "[encoded data removed]"
          },
          "metadata": {},
          "execution_count": 2
        }
      ],
      "source": [
        "from IPython.display import YouTubeVideo\n",
        "YouTubeVideo('lyDLAutA88s', width=800, height=300)"
      ],
      "metadata": {
        "pycharm": {
          "name": "#%%\n"
        },
        "colab": {
          "base_uri": "https://localhost:8080/",
          "height": 321
        },
        "id": "wHWychBP0JB2",
        "outputId": "c4bde65d-9290-4db6-9429-9872ec223ba3"
      }
    },
    {
      "cell_type": "code",
      "execution_count": null,
      "outputs": [],
      "source": [
        ""
      ],
      "metadata": {
        "pycharm": {
          "name": "#%%\n"
        },
        "id": "O94VAbYG0JB3"
      }
    },
    {
      "cell_type": "code",
      "execution_count": null,
      "metadata": {
        "pycharm": {
          "name": "#%%\n"
        },
        "id": "2gq5SUDV0JB4"
      },
      "outputs": [],
      "source": [
        "# 1. Посмотрите видео Дэвида Бизли про встроенные инструменты Python\n",
        "# 2. Попробуйте используя встроенные инструменты Python проанализировать таблицу из файла \"Vacancy.csv\"\n",
        "# 3. Попробуйте ответить на вопросы:\n",
        "# Сколько вакансий, которые вам нравятся?\n",
        "# За какие периоды эти вакансии?\n",
        "# Сколько вакансий с такими позициями, на которых вы работаете?\n",
        "# Сколько вакансий для аналитика данных?\n",
        "# Сколько вакансий для аналитика данных с использованием Python?\n",
        "\n",
        "# В задании важно не использовать pandas и numpy, а встроенные инструменты python\n",
        "# Counter, CSV, defaultdict, sorted"
      ]
    },
    {
      "cell_type": "code",
      "execution_count": null,
      "outputs": [
        {
          "output_type": "stream",
          "name": "stdout",
          "text": [
            "Looking in indexes: https://pypi.org/simple, https://us-python.pkg.dev/colab-wheels/public/simple/\n",
            "Collecting wget\n",
            "  Downloading wget-3.2.zip (10 kB)\n",
            "Building wheels for collected packages: wget\n",
            "  Building wheel for wget (setup.py) ... \u001b[?25l\u001b[?25hdone\n",
            "  Created wheel for wget: filename=wget-3.2-py3-none-any.whl size=9675 sha256=b2cc3cea522e70d601bde7b63ac3c175e2e3d388394d8f7ecce0ee6113726a7e\n",
            "  Stored in directory: /root/.cache/pip/wheels/a1/b6/7c/0e63e34eb06634181c63adacca38b79ff8f35c37e3c13e3c02\n",
            "Successfully built wget\n",
            "Installing collected packages: wget\n",
            "Successfully installed wget-3.2\n",
            "--2022-07-24 17:12:46--  https://raw.githubusercontent.com/da-python/python-for-data-analytics/main/Lesson1/hometask/vacancy.csv.zip\n",
            "Resolving raw.githubusercontent.com (raw.githubusercontent.com)... 185.199.108.133, 185.199.109.133, 185.199.110.133, ...\n",
            "Connecting to raw.githubusercontent.com (raw.githubusercontent.com)|185.199.108.133|:443... connected.\n",
            "HTTP request sent, awaiting response... 200 OK\n",
            "Length: 3029239 (2.9M) [application/zip]\n",
            "Saving to: ‘vacancy.csv.zip’\n",
            "\n",
            "vacancy.csv.zip     100%[===================>]   2.89M  --.-KB/s    in 0.09s   \n",
            "\n",
            "2022-07-24 17:12:46 (33.6 MB/s) - ‘vacancy.csv.zip’ saved [3029239/3029239]\n",
            "\n",
            "Archive:  vacancy.csv.zip\n",
            "  inflating: vacancy.csv             \n"
          ]
        }
      ],
      "source": [
        "# Colab Version\n",
        "!pip install wget\n",
        "!wget https://raw.githubusercontent.com/da-python/python-for-data-analytics/main/Lesson1/hometask/vacancy.csv.zip\n",
        "!unzip vacancy.csv.zip"
      ],
      "metadata": {
        "pycharm": {
          "name": "#%%\n"
        },
        "colab": {
          "base_uri": "https://localhost:8080/"
        },
        "id": "fhhU-yAd0JB4",
        "outputId": "3c331073-0518-453b-a7a7-edd92be7f797"
      }
    },
    {
      "cell_type": "code",
      "execution_count": null,
      "metadata": {
        "pycharm": {
          "name": "#%%\n"
        },
        "id": "i0VPProF0JB4"
      },
      "outputs": [],
      "source": [
        "import csv\n",
        "import sys\n",
        "from collections import Counter, defaultdict"
      ]
    },
    {
      "cell_type": "code",
      "execution_count": null,
      "metadata": {
        "pycharm": {
          "name": "#%%\n"
        },
        "colab": {
          "base_uri": "https://localhost:8080/"
        },
        "id": "7hsaZF330JB5",
        "outputId": "c0ee1de6-f985-4090-c792-039d4ba5dc06"
      },
      "outputs": [
        {
          "output_type": "execute_result",
          "data": {
            "text/plain": [
              "131072"
            ]
          },
          "metadata": {},
          "execution_count": 6
        }
      ],
      "source": [
        "csv.field_size_limit(sys.maxsize)"
      ]
    },
    {
      "cell_type": "code",
      "execution_count": null,
      "outputs": [],
      "source": [
        "# 2. Попробуйте используя встроенные инструменты Python проанализировать таблицу из файла \"Vacancy.csv\""
      ],
      "metadata": {
        "pycharm": {
          "name": "#%%\n"
        },
        "id": "kN4HKg_50JB5"
      }
    },
    {
      "cell_type": "code",
      "execution_count": null,
      "metadata": {
        "pycharm": {
          "name": "#%%\n"
        },
        "id": "9me6-Sdi0JB6"
      },
      "outputs": [],
      "source": [
        "file_path = 'vacancy.csv'\n",
        "vacs = list(csv.DictReader(open(file_path)))"
      ]
    },
    {
      "cell_type": "code",
      "source": [
        "len(vacs)"
      ],
      "metadata": {
        "colab": {
          "base_uri": "https://localhost:8080/"
        },
        "id": "UosPF2TSCSKc",
        "outputId": "501e2eb0-bab9-4da2-beae-e014bfdf53a4"
      },
      "execution_count": null,
      "outputs": [
        {
          "output_type": "execute_result",
          "data": {
            "text/plain": [
              "4002"
            ]
          },
          "metadata": {},
          "execution_count": 9
        }
      ]
    },
    {
      "cell_type": "code",
      "source": [
        "vacs[0]"
      ],
      "metadata": {
        "colab": {
          "base_uri": "https://localhost:8080/"
        },
        "id": "k0H4u958CSWM",
        "outputId": "4212854d-08a7-4764-ff41-dab1af78aa1d"
      },
      "execution_count": null,
      "outputs": [
        {
          "output_type": "execute_result",
          "data": {
            "text/plain": [
              "OrderedDict([('id', '383479'),\n",
              "             ('created_at', '2021-03-14 09:39:21.854462'),\n",
              "             ('updated_at', '2021-03-14 09:39:21.854584'),\n",
              "             ('vacid', '1474941'),\n",
              "             ('vactitle', 'Senior java-разработчик (в команду Онбординга)'),\n",
              "             ('vacdescription',\n",
              "              ' Работа у нас — это:команда профессионалов, готовых поддержать ваши инициативы;мощное железо, дополнительные мониторы и всё, что нужно для продуктивной работы;обучение за счёт компании;гибкий графиккрасивый и комфортный офис  г. Санкт-Петербург, м. Ладожская  пл. Карла Фаберже 8 ВДМС;прозрачная система бонусов и премий, достойная зарплата — размер обсудим на собеседовании.Информация о проекте:Наша команда делает новые экспериментальные фичи для СБОЛа.Сейчас мы разрабатываем систему, с помощью которой разные команды Сбера смогут создавать квесты для мобильного приложения.Также мы будем разрабатывать внутреннюю платформу для продуктовых экспериментов. Описание команды:2-pizza team: сейчас у нас работают разработчики iOS и Android, продакт и аналитик. К команде в ближайшее время подключится тестировщик и еще один аналитик. Мы ожидаем, что Вы:Работали раннее в продуктовой agile-команде;Имеете опыт работы больше 4 лет с Java и ее экосистемой;Владеете Spring: Core, MVC, Boot, Cloud;Работали с реляционными БД;Трепетно относитесь к тестовому покрытию;Будете относиться с заботой к нашим пользователям, продукту и команде. Будет здорово, если вы:Умеете готовить ansible;Работали с k8s;Использовали kafka;Умеете оптимизировать SQL-запросы. Вам предстоит:отвечать за качество технических решений;придумывать реализацию для безумных идей наших продактов;разрабатывать сервисы, интегрироваться с множеством систем банка.Информация о проекте:Наша команда делает новые экспериментальные фичи для СБОЛа.Сейчас мы разрабатываем систему, с помощью которой разные команды Сбера смогут создавать квесты для мобильного приложения.Также мы будем разрабатывать внутреннюю платформу для продуктовых экспериментов. Описание команды:2-pizza team: сейчас у нас работают разработчики iOS и Android, продакт и аналитик. К команде в ближайшее время подключится тестировщик и еще один аналитик. Мы ожидаем, что Вы:Работали раннее в продуктовой agile-команде;Имеете опыт работы больше 4 лет с Java и ее экосистемой;Владеете Spring: Core, MVC, Boot, Cloud;Работали с реляционными БД;Трепетно относитесь к тестовому покрытию;Будете относиться с заботой к нашим пользователям, продукту и команде. Будет здорово, если вы:Умеете готовить ansible;Работали с k8s;Использовали kafka;Умеете оптимизировать SQL-запросы. Вам предстоит:отвечать за качество технических решений;придумывать реализацию для безумных идей наших продактов;разрабатывать сервисы, интегрироваться с множеством систем банка. Работа у нас — это:команда профессионалов, готовых поддержать ваши инициативы;мощное железо, дополнительные мониторы и всё, что нужно для продуктивной работы;обучение за счёт компании;гибкий графиккрасивый и комфортный офис  г. Санкт-Петербург, м. Ладожская  пл. Карла Фаберже 8 ВДМС;прозрачная система бонусов и премий, достойная зарплата — размер обсудим на собеседовании.'),\n",
              "             ('vacdate', '2021-03-15'),\n",
              "             ('vacstatus', 'new'),\n",
              "             ('vaclink',\n",
              "              'https://my.sbertalents.ru/#/job-requisition/1474941')])"
            ]
          },
          "metadata": {},
          "execution_count": 10
        }
      ]
    },
    {
      "cell_type": "code",
      "source": [
        "vacs[1]"
      ],
      "metadata": {
        "colab": {
          "base_uri": "https://localhost:8080/"
        },
        "id": "psGELzdoCSYr",
        "outputId": "93afda62-eb21-416f-b10d-f42ce43dad9e"
      },
      "execution_count": null,
      "outputs": [
        {
          "output_type": "execute_result",
          "data": {
            "text/plain": [
              "OrderedDict([('id', '383480'),\n",
              "             ('created_at', '2021-03-14 09:39:21.854462'),\n",
              "             ('updated_at', '2021-03-14 09:39:21.854584'),\n",
              "             ('vacid', '1476154'),\n",
              "             ('vactitle', 'Дизайнер мобильных приложений'),\n",
              "             ('vacdescription',\n",
              "              'Мы ищем  дизайнера в нашу дружную команду Сбербанк!  Наши проекты:для топ-менеджмента банкадля подразделения безопасностидля лаборатории робототехникидля инкассаторов Задачи:Дизайн и верстка сложных корпоративных продуктов на платформах iOS, Android, macOS, Windows и Web/Основной профиль –  мобильные приложения;Работать в связке с другими дизайнерами;Развивать текущие продукты;Отрисовка макетов в рамках существующей дизайн-системы. Требования:Знание гайдлайнов iOS и Android;Владение профессиональными программами: Sketch, Figma, Adobe Creative Cloud;Основы композиции, типографики, цвета и формы;Грамотный русский и базовый английский язык;Коммуникабельность, командная работа, обучаемость, огонь в глазах.  Условия:Полный рабочий день, но по удобному графику;Достойная заработная плата (оклад + премии);Оформление по ТК РФ;Социальный пакет (ДМС, английский язык, спортзал);Возможность обучения и сертификации за счет компании;Программа льготного кредитования в Сбербанке;Дисконт-программы от множества компаний партнеров;Возможность принять участие в других крупных и уникальных проектах банка.  Мы благодарим всех соискателей, которые направят отклик на данную вакансию. Ваше резюме будет рассмотрено в течение ближайшего времени.Знание гайдлайнов iOS и Android;Владение профессиональными программами: Sketch, Figma, Adobe Creative Cloud;Основы композиции, типографики, цвета и формы;Грамотный русский и базовый английский язык;Коммуникабельность, командная работа, обучаемость, огонь в глазах.  Условия:Полный рабочий день, но по удобному графику;Достойная заработная плата (оклад + премии);Оформление по ТК РФ;Социальный пакет (ДМС, английский язык, спортзал);Возможность обучения и сертификации за счет компании;Программа льготного кредитования в Сбербанке;Дисконт-программы от множества компаний партнеров;Возможность принять участие в других крупных и уникальных проектах банка.  Мы благодарим всех соискателей, которые направят отклик на данную вакансию. Ваше резюме будет рассмотрено в течение ближайшего времени.Мы ищем  дизайнера в нашу дружную команду Сбербанк!  Наши проекты:для топ-менеджмента банкадля подразделения безопасностидля лаборатории робототехникидля инкассаторов Задачи:Дизайн и верстка сложных корпоративных продуктов на платформах iOS, Android, macOS, Windows и Web/Основной профиль –  мобильные приложения;Работать в связке с другими дизайнерами;Развивать текущие продукты;Отрисовка макетов в рамках существующей дизайн-системы. '),\n",
              "             ('vacdate', '2021-03-15'),\n",
              "             ('vacstatus', 'new'),\n",
              "             ('vaclink',\n",
              "              'https://my.sbertalents.ru/#/job-requisition/1476154')])"
            ]
          },
          "metadata": {},
          "execution_count": 11
        }
      ]
    },
    {
      "cell_type": "code",
      "source": [
        "# Все уникальные вакансии\n",
        "uniq_vacs_title = { row['vactitle'] for row in vacs }\n",
        "uniq_vacs_title"
      ],
      "metadata": {
        "colab": {
          "base_uri": "https://localhost:8080/"
        },
        "id": "wQvxN2IiCSbR",
        "outputId": "35881cda-441c-45f6-b3ac-60780516bf14"
      },
      "execution_count": null,
      "outputs": [
        {
          "output_type": "execute_result",
          "data": {
            "text/plain": [
              "{'Лидер «Аналитического хаба» (Дивизион \"Цифровой кредитный мониторинг\")',\n",
              " 'Главный инженер по java разработке',\n",
              " 'Scrum-master/DL (СберЧат)',\n",
              " 'QlikSense разработчик',\n",
              " 'Клиентский менеджер (корпоративные клиенты)',\n",
              " 'Ведущий администратор Linux',\n",
              " 'Delivery Lead Управления Рисков Благосостояния',\n",
              " 'Менеджер отдела кредитного анализа операций на финансовых рынках',\n",
              " 'Senior Data scientist (портфельное моделирование)',\n",
              " 'Старший Devops-инженер',\n",
              " 'Главный инженер по нагрузочному тестированию',\n",
              " 'Старший менеджер по обслуживанию (с.Колташево)',\n",
              " 'Менеджер по продажам с. Верхнеяркеево',\n",
              " 'Ведущий специалист отдела закупочных процедур',\n",
              " 'Главный Java разработчик',\n",
              " 'TeamLead группы сопровождения',\n",
              " 'Senior/Lead Java developer (Видеоаналитика/ VR)',\n",
              " 'Java разработчик (продукты страхования)',\n",
              " 'Ст.менеджер по продаже жилищ.кредитов',\n",
              " 'Системный аналитик АБС ЦФТ-Банк',\n",
              " 'FrontEnd Developer',\n",
              " 'Java',\n",
              " 'Инженер по сопровождению систем',\n",
              " 'DevOps инженер (Корпоративное страхование)',\n",
              " 'Data инженер (разработчик)',\n",
              " 'Senior/Middle Java разработчик',\n",
              " 'Начальник отдела /Отдел продаж лизинга крупному и среднему бизнесу/, (Нижний Новгород)',\n",
              " 'Менеджер направления',\n",
              " 'Backend-разработчик (.Net Core)',\n",
              " 'JavaScript/Python developer SberDevices',\n",
              " 'Frontend разработчик (React)',\n",
              " 'Менеджер проекта (IT Bootcamp Сбера)',\n",
              " 'Ведущий системный аналитик (команда Конструктор ставок)',\n",
              " 'Специалист (Отдел технических средств охраны)',\n",
              " 'Старший менеджер по обслуживанию (с. Малый Ашап)',\n",
              " 'Руководитель проектов',\n",
              " 'Middle Data Scientist',\n",
              " 'Архитектор CRM системы',\n",
              " 'Аналитик ( Семейный банк )',\n",
              " 'Клиентский менеджер малого и микробизнеса',\n",
              " 'Практикант (ХМАО)',\n",
              " 'Главный аналитик',\n",
              " 'Senior Frontend-разработчик (Сервис мониторинга разработки ПО)',\n",
              " 'Заместитель управляющего',\n",
              " 'Клиентский менеджер /Отдел продаж лизинга через Поставщиков 2/, (Оружейный Москва)',\n",
              " 'QA engineer авто (разработчик тестирования)',\n",
              " 'Эксперт ETL',\n",
              " 'Стажер Sberseasons Экономика и финансы',\n",
              " 'Senior QA инженер',\n",
              " 'Инженер дежурной смены мониторинга ИТ-инфраструктур',\n",
              " 'Web разработчик',\n",
              " 'Методолог процесса управления технологическими инцидентами',\n",
              " 'Руководитель функции ИТ/системный администратор',\n",
              " 'Старший менеджер по обслуживанию, с. Смоленское',\n",
              " 'Директор управления организации продаж РГС',\n",
              " 'Инженер Удостоверяющего центра',\n",
              " 'Project manager (Цифровой профиль)',\n",
              " 'Техник КИПиА',\n",
              " 'ETL разработчик (Руководитель направления по аналитике данных)',\n",
              " 'Digital Transformation officer (развитие экосистемы для ключевых клиентов)',\n",
              " 'Аналитик на разметку данных',\n",
              " 'Delivery Lead в команду SberUserID',\n",
              " 'Teamlead Java',\n",
              " 'Владелец продукта \"Кредитные карты\"',\n",
              " 'Дизайнер мобильных приложений',\n",
              " 'Quality engineer',\n",
              " 'Специалист по телемаркетингу',\n",
              " 'Специалист по пожарной безопасности',\n",
              " 'Аналитик ОД',\n",
              " 'Рук-ль направления по аналитике данных',\n",
              " 'Менеджер по ипотеке',\n",
              " 'Старший специалист по сопровождению аккредитивов',\n",
              " 'Бизнес аналитик (Направление - «Недееспособные/несовершеннолетние\")',\n",
              " 'Специалист по взысканию задолженности',\n",
              " 'Тестировщик (ручное тестирование)',\n",
              " 'Старший специалист по информационной безопасности',\n",
              " 'Разработчик Android (СберДруг)',\n",
              " 'Аналитик по роботизации процессов (RPA)',\n",
              " 'Инженер по тестированию',\n",
              " 'Начальник отдела по работе с партнерами жилищного кредитования',\n",
              " 'Разработчик СУБД',\n",
              " 'Руководитель проектов Agile',\n",
              " 'Инспектор',\n",
              " 'Product Owner, сегмент «Самозанятые»',\n",
              " 'Java-разработчик (Jira, Confluence)',\n",
              " 'Data analyst. Стажера - Аналитик (кластер Персональные предложения)',\n",
              " 'Ведущий специалист по оценке залогового имущества',\n",
              " 'Клиентский менеджер (банк)',\n",
              " 'Системный аналитик (платформа рекомендаций)',\n",
              " 'Product manager(сопровождение ML моделей)',\n",
              " 'Тестировщик (функциональное тестирование)',\n",
              " 'Data Analyst (\"Корпоративные клиенты 360\")',\n",
              " 'Специалист технической поддержки (1-ая линия',\n",
              " 'Руководитель направления \"ассистент для сотрудников Сбера и компаний его экосистемы\"',\n",
              " 'Системный администратор Linux',\n",
              " 'Data - аналитик',\n",
              " 'Старший менеджер по обслуживанию (п.Двуреченск)',\n",
              " 'Data  Scientist(команда ценообразования)',\n",
              " 'Инфраструктурный архитектор',\n",
              " 'енер в группу сопровождения',\n",
              " 'Ведущий системный аналитик BI',\n",
              " 'Трафик-менеджер',\n",
              " 'QA/Ведущий инженер по тестированию (Сбербанк онлайн)',\n",
              " 'Клиентский менеджер Сбер Первый',\n",
              " 'Главный клиентский менеджер  малого бизнеса',\n",
              " 'Старший инженер по кибербезопасности',\n",
              " 'Руководитель направления по поддержке отчетности данных',\n",
              " 'Java-разработчик (команда разработки \"Транзакционных кредитных продуктов\")',\n",
              " 'Старший кредитный аналитик (Малый бизнес)',\n",
              " 'QA engineer (нагрузочное тестирование)',\n",
              " 'QA инженер',\n",
              " 'Бизнес-аналитик (системный аналитик)',\n",
              " 'Frontend-разработчик (React)',\n",
              " 'frontend-разработчик junior',\n",
              " 'Директор проектов ИБ',\n",
              " 'ML-инженер (RL)',\n",
              " 'Ведущий дата аналитик',\n",
              " 'Старший аудитор по проверкам кредитных операций физических лиц',\n",
              " 'Cluster Lead',\n",
              " 'Java Dev (SberNBA)',\n",
              " 'Ведущий инженер по разработке/Ведущий инженер по тестированию',\n",
              " 'PostgreSQL DBA (SberITSM)',\n",
              " 'Старший руководитель/Главный инженер ИТ-направления',\n",
              " 'Backend-разработчик (.NET)',\n",
              " 'Lead Computer Vision Developer (AR/VR Lab)',\n",
              " 'ML Developer',\n",
              " 'Front-end developer (проект SberGeoData)',\n",
              " 'Старший менеджер по обслуживанию (с Лобаново)',\n",
              " 'Data Engineer (проект Sberbank International)',\n",
              " 'Разработчик С/С++',\n",
              " 'Стажер Sberseasons Analytics',\n",
              " 'Аудитор',\n",
              " 'Разработчик С# (проект Portman)',\n",
              " 'Администратор проекта/delivery-менеджер',\n",
              " 'Специалист по прямым продажам',\n",
              " 'Data Scientist в департамент по работе с проблемными активами',\n",
              " 'Менеджер по продажам продуктов канала Управления \"Безналичные решения\"',\n",
              " 'Специалист по организации документооборота',\n",
              " 'Главный специалист по телемаркетингу',\n",
              " 'Back-end разработчик',\n",
              " 'Специалист горячей линии ЦУЗ',\n",
              " 'UI-разработчик (Senior/ Lead)',\n",
              " 'Специалист судебного и исполнительного производства',\n",
              " 'Руководитель контент-группы',\n",
              " 'Главный инженер по разработке (разработчик Java)',\n",
              " 'Менеджер по нефинансовым сервисам (продажи продуктов экосистемы Сбера корпоративным клиентам)',\n",
              " 'Архитектор Экосистемы (Моментум)',\n",
              " 'Ведущий Frontend разработчик (React)',\n",
              " 'Системный аналитик (команда «Малый и микро бизнес»)',\n",
              " 'Менеджер по развитию продукта',\n",
              " 'Администратор АС',\n",
              " 'Инженер по сопровождению',\n",
              " 'Консультант SAP HR',\n",
              " 'Data Scientist',\n",
              " 'Senior Java Developer/ Java Team Lead (Система управления знаниями и поиск)',\n",
              " 'Senior/Middle Data Scientist (NLP, маркетинг)',\n",
              " 'Senior java developer (Проект: Кредитование корпоративных клиентов)',\n",
              " 'Ведущий инженер в управление серверов приложений',\n",
              " 'Руководитель направления по разработкке (Backend-разработчик)',\n",
              " 'Главный инженер по тестированию (SberUser)',\n",
              " 'Старший менеджер по обслуживанию с. Шаповалово Акбулакский район',\n",
              " 'Разработчик (DWH/SQL/ETL)',\n",
              " 'QA Lead автотестирование',\n",
              " 'Senior Android-developer (виртуальный ассистент-Сбербанк Онлайн)',\n",
              " 'Исследователь данных',\n",
              " 'Менеджер по продажам (пгт.Дубна)',\n",
              " 'Старший менеджер по обслуживанию (п. Юшала)',\n",
              " 'Начальник отдела связи и мониторинга',\n",
              " 'Инженер по функциональному тестированию',\n",
              " 'Клиентский менеджер регионального госсектора',\n",
              " 'РукНапр/EngDev/Ob-C/2ур',\n",
              " 'Product manager CRM. Дивизион `Массовая персонализация`',\n",
              " 'Главный ИТ-инженер/Lead DevOps СберТех',\n",
              " 'java разработчик',\n",
              " 'Product owner (Риск-отчётность)',\n",
              " 'Java разработчик автоматизированных API-тестов',\n",
              " 'Начальник сектора развития инфраструктуры',\n",
              " 'Помощник руководителя',\n",
              " 'Старший менеджер по обслуживанию (с. Таборы)',\n",
              " 'ML engineer (PFM, блок Управление Благосостоянием)',\n",
              " 'Инкассатор',\n",
              " 'Ведущий специалист (ИТ) в сектор сопровождения работы Регионального центра ПЦП',\n",
              " 'Delivery Manager',\n",
              " 'Бизнес-аналитик в команду Чаты. Мобильное Приложение',\n",
              " 'Ведущий Java разработчик (Sber911)',\n",
              " 'Бизнес аналитик',\n",
              " 'Главный системный аналитик/IT-технолог',\n",
              " 'Территориальный менеджер',\n",
              " 'Разработчик GO (СберЧат)',\n",
              " 'QA (web тестировщик)',\n",
              " 'Системный аналитик (медицина)',\n",
              " 'Главный инженер (Pentest)',\n",
              " 'Team lead / Product Owner Инфоактивов (Архитектор-разработчик)',\n",
              " 'Сейлз, Отдел продаж финансовым институтам фин. инструментов',\n",
              " 'Инженер по нагрузочному тестированию в канал Устройств Самообслуживания',\n",
              " 'Java разработчик «Единая Фронтальная Система»',\n",
              " 'Менеджер по сопровождению ипотеки',\n",
              " 'Инцидент-менеджер',\n",
              " 'Ведущий специалист Отдела отчетности Управления учета и отчетности по операциям на глобальных рынках',\n",
              " 'Специалист отдела приема и учета документов',\n",
              " 'Senior frontend разработчик (Dashboard SberBPM)',\n",
              " 'Data Engineer( GreenPlum+Hadoop)',\n",
              " 'Старший разработчик / архитектор Ab Initio',\n",
              " 'Data Scientist для работы по направлениям СКС и ЦУДЗО (Блок GR)',\n",
              " 'Тестировщик (QA engineer)',\n",
              " 'Старший специалист отдела мониторинга залогового обеспечения',\n",
              " 'Специалист по прямым продажа',\n",
              " 'Инженер по сопровождению СУБД Oracle',\n",
              " 'Специалист по прямым продажам Бузулук',\n",
              " 'Аналитик данных/администратор проектов',\n",
              " 'Кредитный инспектор сектора финансирования недвижимости',\n",
              " 'Java разработчик в команду создания единого рабочего места сотрудников Back-office',\n",
              " 'Архитектор (Комплаенс)',\n",
              " 'Эксперт по финансовому анализу',\n",
              " 'Старший менеджер по обслуживанию с. Старобалтачево',\n",
              " 'Product owner|развитие сервиса межкорпоративного ЭДО в интернет банке СберБизнес',\n",
              " 'Разработчик Python',\n",
              " 'Старший менеджер по обслуживанию,  п Масальский',\n",
              " 'Ведущий сетевой инженер (3-я линия поддержки)',\n",
              " 'SRE-инженера (CI/CD)',\n",
              " 'Key Account Manager. Дивизион `Лояльность`',\n",
              " 'QA automation engineer java',\n",
              " 'Конструктор (команда беспилотника)',\n",
              " 'Стажер Sberseasons Дизайн весна',\n",
              " 'Главный инженер по сопровождению в управление сопровождения сервисов',\n",
              " 'Графический дизайнер',\n",
              " 'Руководитель по внедрению проектов (экосистема)',\n",
              " 'QA Automation Engineer (SberTech)',\n",
              " 'Бизнес-аналитик (управление торгового финансирования)',\n",
              " 'Java Developer',\n",
              " 'Analyst (Аналитик, команда Клиентской аналитики, Корп.блок)',\n",
              " \"Координатор работ по  'Миграции Legacy АС на ППРБ'\",\n",
              " 'Team Lead Data Scientist',\n",
              " 'UX/UI-дизайнер',\n",
              " 'Старший менеджер по обслуживанию (с. Долговское)',\n",
              " 'Начальник центра комплексной поддержки Регионального сервисного центра',\n",
              " 'Практикант Рязань',\n",
              " 'SAS разработчик (Сбербизнес)',\n",
              " 'Аналитик (Голосовой ассистент)',\n",
              " 'Практика в Московском банке',\n",
              " 'QA-инженер (auto) АС Калита',\n",
              " 'Java разработчик  (кредитный мониторинг)',\n",
              " 'Qa automation',\n",
              " 'Клиентский менеджер /Отдел продаж лизинга крупному и среднему бизнесу/, (Екатеринбург)',\n",
              " 'Администратор PostgreSQL',\n",
              " 'Analyst / Associate в Change подразделении Департамента Инвестиционной деятельности',\n",
              " 'Охранник',\n",
              " 'Java разработчик (сервисы по взаимодействию банковских и государственных структур)',\n",
              " 'Full-Stack разработчик',\n",
              " 'PO команды AI - решений на основе NLP',\n",
              " 'Product Owner Data science (блок Управление Благосостоянием)',\n",
              " 'Ведущий аналитик-исследователь',\n",
              " 'Data analyst (Казначейство)',\n",
              " 'Системный аналитик (СберПрайм)',\n",
              " 'Мобильный менеджер по продажам с. Малояз',\n",
              " 'Главный инженер по разработке IOS',\n",
              " 'Разработчик БД/Hadoop',\n",
              " 'Менеджер по выстраиванию эффективных процессов (Дивизион \"Цифровой кредитный мониторинг\")',\n",
              " 'Руководитель направления (повышение качества кредитных историй)',\n",
              " 'HR координатор',\n",
              " 'Водитель-механик',\n",
              " 'Разработчик Android-приложений (команда беспилотника)',\n",
              " 'Тестировщик backend (направление \"Госпродукты и Сервисы\")',\n",
              " 'Кредитный менеджер',\n",
              " 'Middle Data Engineer',\n",
              " 'Java Team Lead (Глобальные рынки)',\n",
              " 'Data Scientist в команду GraphML',\n",
              " 'Senior java разработчик/ Team lead в проект \"Цифровые платформы образования \"',\n",
              " 'Стажер Sberseasons Нагрузочное тестирование весна',\n",
              " 'Senior Java-разработчик',\n",
              " 'Стажер Sberseasons Java весна',\n",
              " 'Системный аналитик команды «Цифровая трансформация»',\n",
              " 'Data engineer (Управление противодействия кибермошенничеству)',\n",
              " 'Специалист по работе с клиентами (call-центр)',\n",
              " 'Ведущий специалист отдела мониторинга и контроля качества',\n",
              " 'Главный дизайнер мобильных приложений',\n",
              " 'Java-разработчик (зарплатные, социальные, пенсионные зачисления клиентов Сбера)',\n",
              " 'Senior IOS-разработчик (виртуальный ассистент)',\n",
              " 'Инженер сопровождения OpenShift\\\\Kubernetes ( дежурная смена)',\n",
              " 'Специалист организационно-административного отдела',\n",
              " 'Главный специалист /Отдел оценки и залоговых операций/, (Центральный офис Москва)',\n",
              " 'Аналитик баз данных',\n",
              " 'Разработчик С++',\n",
              " 'Старший инженер отдела удалённой ИТ поддержки',\n",
              " 'Разработчик ЦФТ (IBSO)',\n",
              " 'QA engineer (ручное тестирование)',\n",
              " 'Водитель (персональный)',\n",
              " 'Бизнес-аналитик/ Product Owner',\n",
              " 'Методолог в команду «Ипотека» продукт «Новостройка»',\n",
              " 'Старший инженер нагрузочного тестирования',\n",
              " 'Главный специалист отдела развития услуг снабжения',\n",
              " 'Администратор сопровождения',\n",
              " 'Fullstack разработчик (JavaScript+Java)',\n",
              " 'Специалист контактного центра со знанием таджикского/узбекского языков',\n",
              " 'Техник-электрик ЦОД',\n",
              " 'Директор управления Безналичные решения',\n",
              " 'Ведущий аналитик (Хранилище данных)',\n",
              " 'Администратор баз данных Oracle/Oracle DBA',\n",
              " 'Data Analyst Дивизион `Массовая персонализация`',\n",
              " 'Технолог (проекты Экосистемы)',\n",
              " 'Senior QA Automation Engineer (Java)',\n",
              " 'Главный специалист отдела ведения проектов по проблемным активам',\n",
              " 'Ведущий аналитик данных',\n",
              " 'Devops инженер',\n",
              " 'Ведущий эксперт',\n",
              " 'Исследователь данных (Data scientist)',\n",
              " 'Senior UX researcher (Web Sberbank Online)',\n",
              " 'ABAP разработчик',\n",
              " 'Cистемный аналитик (команда Customer decisions engine)',\n",
              " 'Middle Java разработчик (Sberbank International)',\n",
              " 'Руководитель направления (слияния и поглощения)',\n",
              " 'Старший инженер в отдел платформ контейнеризации',\n",
              " 'Delivery lead (ЕПК)',\n",
              " 'Старший эксперт по технологиям (ITIL-процессы)',\n",
              " 'Старший аудитор (с навыками программирования)',\n",
              " 'DevOps-инженер',\n",
              " 'Старший менеджер по обслуживанию (с.Крутая горка)',\n",
              " 'Специалист по охране труда',\n",
              " 'Ведущий ИТ-инженер',\n",
              " 'Специалист сервисного обслуживания (Оператор call-центра)',\n",
              " 'Тестировщик (java разработчик)',\n",
              " 'Стажер (Офис Agile трансформации)',\n",
              " 'Ведущий инженер (защита от DDoS-атак)',\n",
              " 'Team lead команды разработки продукта (SIEM)',\n",
              " 'Аналитик SQL',\n",
              " 'Старший специалист отдела недвижимости и развития инфраструктуры',\n",
              " 'Старший менеджер по обслуживанию (п. Приполярный)',\n",
              " 'Ведущий аналитик по разработке банковского ПО (ЦФТ IBSO)',\n",
              " 'Инженер 1 линии поддержки',\n",
              " 'Full Stack Developer (проект PACMAN)',\n",
              " 'Backend разработчик .NET',\n",
              " 'Ведущий инженер по автоматизации тестирования (система электронного документооборота)',\n",
              " 'DWH/Data Engineer',\n",
              " 'Data engineer (ДТБ)',\n",
              " 'Старший менеджер по обслуживанию (п. Комсомольский)',\n",
              " 'Ведущий специалист в сфере процедур банкротства',\n",
              " 'Стажер',\n",
              " 'Слесарь-сборщик (направление беспилотники)',\n",
              " 'Java- разработчик (СУР)',\n",
              " 'Специалист архивного центра',\n",
              " 'Ведущий инженер',\n",
              " 'Devops/ETL (мониторинг)',\n",
              " 'Старший менеджер по обслуживанию Тула',\n",
              " 'Product owner \"Наличные с покупкой\".',\n",
              " 'Ведущий системный аналитик (ДИТ Риски)',\n",
              " 'Data -инженер (корпоративно-инвестиционный бизнес)',\n",
              " 'JavaScript-разработчик (React)',\n",
              " 'Andorid-разработчик',\n",
              " 'Ведущий эксперт KMS',\n",
              " 'Аналитик в команду «Бюджетирование»',\n",
              " 'Практикант (г. Тюмень)',\n",
              " 'Junior Devops',\n",
              " 'Data analyst (в Лабораторию клиентского опыта)',\n",
              " 'Аналитик',\n",
              " 'Ведущий эксперт по технологиям',\n",
              " 'Тестировщик ПО/QA (команда \"Интеллектуальное распознавание документов\")',\n",
              " 'Менеджер в команду «Целеполагание, agile-трансформация»',\n",
              " 'Старший менеджер по обслуживанию (с. Забитуй)',\n",
              " 'Системный аналитик (Сбербизнес)',\n",
              " 'Старший менеджер по обслуживанию с. Сладково Илекского района',\n",
              " 'Руководитель направления продаж продуктов торгового финансирования',\n",
              " 'FrontEnd разработчик',\n",
              " \"Релиз-менеджер (Дивизион 'Цифровая платформа')\",\n",
              " 'Специалист по подбору персонала',\n",
              " 'Клиентский менеджер /Сектор повторных продаж, (Тольятти)',\n",
              " 'Ведущий специалист (Управление комплаенс)',\n",
              " 'Lead Java разработчик (Ситуационный центр)',\n",
              " 'Старший инженер удаленной технической поддержки автоматизированных рабочих мест',\n",
              " 'Customer journey expert (CJE). Бизнес аналитик в сегмент Интернет-коммерции (E-commerce).',\n",
              " 'Разработчик HP / MicroFocus Service Manager',\n",
              " 'Специалист сопровождения (ИТ-договора, ЗНИ, SLA)',\n",
              " 'Главный инженер по сопровождению в управление систем процессинга',\n",
              " 'Frontend разработчик (продукт Puzzle)',\n",
              " 'Data Scientist (Центр валидации моделей КИБ)',\n",
              " 'Специалист по обработке запросов',\n",
              " 'Эксперт по операциям на финансовых рынках (Управление Рисков)',\n",
              " 'Специалист сектора использования документов',\n",
              " 'Продуктовый дизайнер',\n",
              " 'Продуктовый аналитик в команду \"Digital продажи в Сбербанк Онлайн\"',\n",
              " 'Руководитель направления (Центр организации обработки и защиты персональных данных)',\n",
              " 'CDO Data Governance',\n",
              " 'Сеньор QA АТФ',\n",
              " 'Главный специалист поддержки продуктов/ инструментов',\n",
              " 'Руководитель направления (Риски)',\n",
              " 'Специалист по тестированию / QA-engineer (Комплаенс)',\n",
              " 'FullStack developer',\n",
              " 'Специалист по сопровождению ключ.клиент.',\n",
              " 'Стажер Sberseasons QA Весна',\n",
              " 'Senior DevOps Engineer (eFX)',\n",
              " 'Разработчик Front-end',\n",
              " 'Старший менеджер по обслуживанию (Коченевский р-он, с.Целинное)',\n",
              " 'ГлИнжР/ОптимПроцес-Бизнес GM-ЦА/2ур',\n",
              " 'Кредитный инспектор Управления мониторинга кредитных операций',\n",
              " 'Разработчик Java/Go (проект MLStorage)',\n",
              " 'Технолог ARIS',\n",
              " 'Менеджер, Управление эффективностью удаленной работы сотрудников контактного центра',\n",
              " 'Редактор-корректор',\n",
              " 'Стажировка',\n",
              " 'Senior Product Manager/ UX-researcher в Лабораторию нейронаук и поведения человека',\n",
              " 'Java Разработчик',\n",
              " 'Старший менеджер по обслуживанию (с.Верх-Ирмень)',\n",
              " 'JS разработчик',\n",
              " 'Разработчик бизнес-процессов (SQL, EL, Jelly)',\n",
              " 'DevOps Engineer (Маркетинг)',\n",
              " 'Руководитель группы Системной разработки (команда беспилотника)',\n",
              " 'Главный инженер по разработке (тестировщик)',\n",
              " 'Data Analyst Дивизион \"Особенные решения\"',\n",
              " 'Chief Information Security Officer',\n",
              " 'Инженер внедрения и сопровождения',\n",
              " 'Продуктовый аналитик (SberDevices)',\n",
              " 'Финансовый советник Сбербанк Первый',\n",
              " 'QA (функциональное тестирование) HR платформа',\n",
              " 'Менеджер интеграционных проектов | SberBusiness API',\n",
              " 'Project-менеджер. Дивизион `Массовая персонализация`',\n",
              " 'Старший инженер (сетевая безопасность)',\n",
              " 'Аналитик данных в команду «Инфраструктура данных»',\n",
              " 'Специалист по документообороту',\n",
              " 'Front-end разработчик (RIA/SPA приложения)',\n",
              " 'Главный инженера по сопровождению(команда Заботы о клиентах)',\n",
              " 'Стажёр Java',\n",
              " 'Менеджер по продажам продуктов канала эквайринга',\n",
              " 'Стажер Sberseasons Системный анализ Весна',\n",
              " 'QA engineer в команду SberUserID',\n",
              " 'Data Scientist\\xa0Middle/Senior\\xa0с экспертизой ML/NLP/CV задач',\n",
              " 'Исполнительный директор по операционной эффективности блока риски',\n",
              " 'front-end разработчик React + Redux (middle)',\n",
              " 'Администратор IT систем / SRE (команда SberDevices)',\n",
              " 'Системный аналитик (СИРИУС: Трансформация )',\n",
              " 'Менеджер по маркетингу и коммуникациям',\n",
              " 'Руководитель направления (Управление портфельных рисков и инструментов)',\n",
              " 'Senior Developer C# (система управления Linux)',\n",
              " 'Специалист',\n",
              " 'Кредитный инспектор отдела мониторинга кредитных операций розничной торговли',\n",
              " 'Аналитик управленческой отчетности по ЮЛ',\n",
              " 'Devops engineer',\n",
              " 'Главный ИТ-инженер',\n",
              " 'Руководитель направления (стресс-тестирование, риск-аппетит, портфельные лимиты)',\n",
              " 'Старший менеджер по обслуживанию ( с. Пудем)',\n",
              " 'QA',\n",
              " 'IOS-разработчик (СберЧат)',\n",
              " 'Ведущий специалист судебного и исполнительного производства',\n",
              " 'Senior/Middle Java разработчик (Сбербизнес)',\n",
              " 'Тренер - администратор зала',\n",
              " 'React-native frontend developer (TagMe)',\n",
              " 'Специалист по автоматизации тестирования',\n",
              " 'Юрист/Руководитель направления отраслевых проектов в Центр регулирования ИИ',\n",
              " 'Data engineer (Массовая персонализация)',\n",
              " 'Главный специалист (Риски корпоративно-инвестиционного бизнеса)',\n",
              " 'Клиентский менеджер (поставщики повторные) Волгоград',\n",
              " 'Старший клиентский менеджер (сегмент средний-крупный бизнес)',\n",
              " 'СИстемный аналитик',\n",
              " 'JavaScript-разработчик',\n",
              " 'Java-senior разработчик',\n",
              " 'Консультант по работе с ПФР',\n",
              " 'Site Reliability Engineering',\n",
              " 'Инженер функционального тестирования',\n",
              " 'Java-разработчик (Зарплатный проект)',\n",
              " 'Системный аналитик/IT analyst',\n",
              " 'Главный инженер по тестированию (брокерское направление)',\n",
              " 'Старший менеджер по обслуживанию (с. Ургаза)',\n",
              " 'Разработчик СУБД GreenPlum',\n",
              " 'Старший инженер по ручному тестированию в команду единого рабочего места сотрудника Back-office',\n",
              " 'QA-Engineer(Java)/ИТ-инженер СберТех',\n",
              " 'Senior QA',\n",
              " 'Scala разработчик',\n",
              " 'Консультант «SAP Solution Manager»',\n",
              " 'Территориальный менеджер по продуктам глобальных рынков',\n",
              " 'Исследователь клиентского опыта в кластер «Клиентский путь»',\n",
              " 'Старший специалист Отдела сопровождения деривативных и товарных операций',\n",
              " 'Lead/Architect Java разработчик на Инвестиционную платформу ЮЛ в Сбер',\n",
              " 'Старший эксперт по технологиям',\n",
              " 'Главный специалист сектора развития инфраструктуры',\n",
              " 'Старший кредитный аналитик малого бизнеса',\n",
              " 'Тестировщик-автоматизатор (QA)',\n",
              " 'Мобильный менеджер по продажам Серпухов',\n",
              " 'Помощник HR-директора',\n",
              " 'Старший инженер технической поддержки/системный администратор',\n",
              " 'Стажер Sberseasons JavaScript Весна',\n",
              " 'Лидер целеполагания в Штаб блока Сеть продаж',\n",
              " 'Руководитель направления внедрения SAP MM',\n",
              " 'Аналитик интеграционных взаимодействий',\n",
              " 'Lead Data Analyst',\n",
              " 'Главный специалист /Отдел управленческой отчетности и бизнес анализа/, (Центральный офис Москва)',\n",
              " 'Middle Java разработчик (WEB и IOS)',\n",
              " 'Старший менеджер по обслуживанию (с. Аргамаково)',\n",
              " 'Senior Java Developer (SberUser)',\n",
              " 'Менеджер по продажам продуктов канала',\n",
              " 'Системный аналитик (SberRadar)',\n",
              " 'Системный аналитик (Дивизион \"Малый и Микро бизнес\")',\n",
              " 'Старший менеджер по обслуживанию (с.Петрокаменское)',\n",
              " 'Lead ML-инженер (CV)',\n",
              " 'Data Engineer (Маркетинг КИБ)',\n",
              " 'Frontend Developer (JS, React, TypeScript)',\n",
              " 'Коуч по продуктам благосостояния (Сбер Первый)',\n",
              " 'Python-разработчик (Django)',\n",
              " 'Эксперт по валидации штаба AI трансформации (Рук-ль направления по исслед.данных)',\n",
              " 'Ведущий специалист Отдела поддержки фронт-офиса Миддл-офиса',\n",
              " 'Старший аналитик (Хранилище данных)',\n",
              " 'Java разработчик (Трайб Инвестиции и накопления)',\n",
              " 'UI/UX-Дизайнер (КК 360)',\n",
              " 'Product Owner (виртуальный ассистент)',\n",
              " 'Руководитель направления финансовой оценки проектов. Дивизион `Лояльность`',\n",
              " 'Бизнес-аналитик (ПлатиQR)',\n",
              " 'Операционный Директор контактного центра (г. Казань)',\n",
              " 'Региональный менеджер по Проблемным активам',\n",
              " 'Системный аналитик (Виртуальный ассистент, Массовая персонализация)',\n",
              " 'Java-разработчик (проект Billing & Allocation)',\n",
              " 'Кредитный инспектор Отдела оборонно-промышленного комплекса',\n",
              " 'Инженер по нагрузочному тестированию',\n",
              " 'Backend-разработчик (web)',\n",
              " 'IOS разработчик онлайн-сервиса Экосистемы',\n",
              " 'Тестировщик / QA Engineer',\n",
              " 'Стажер Sberseasons Network Security: Анализ событий весна',\n",
              " 'Клиентский менеджер /Отдел продаж розничных лизинговых продуктов (банк)/, (Санкт-Петербург)',\n",
              " 'Начальник сектора',\n",
              " 'Руководитель команды DevOps/сопровождения',\n",
              " 'Fullstack-разработчик (React/Java)',\n",
              " 'Специалист по прямым продажам Рыбинск',\n",
              " 'Кадровый резерв IT',\n",
              " 'Кладовщик',\n",
              " 'Project manager в команду «Ипотека» продукт «Новостройка»',\n",
              " 'Ведущий исследователь данных',\n",
              " 'Старший инженер/Энергетик',\n",
              " 'Бизнес-аналитик в команду \"Развитие транзакций электронной ипотеки\"',\n",
              " 'Кредитный инспектор отдела мониторинга кредитных операций торговли',\n",
              " 'Бизнес-аналитик в команду «Классические переводы»',\n",
              " 'Дежурный администратор',\n",
              " 'Старший менеджер по обслуживанию, с.Гилев-Лог',\n",
              " 'Кассир кассы пересчета',\n",
              " 'Эксперт направления контроля качества контактного центра',\n",
              " 'Главный специалист по кибербезопасности (защита систем корпоративного блока)',\n",
              " 'Инженер ответственный за электроснабжение объектов недвижимости',\n",
              " 'ETL developer',\n",
              " 'Старший инженер (Отдел розничных нефинансовых сервисов)',\n",
              " 'Методолог ARIS',\n",
              " 'Middle Java разработчик',\n",
              " 'Тестировщик ПО/ команда \"Депозитарий\"',\n",
              " 'Linux администратор',\n",
              " 'Ведущий системный аналитик',\n",
              " 'Tech lead продукта «Виртуальный ассистент»',\n",
              " 'Архитектор сервиса',\n",
              " 'Team Lead Java разработки',\n",
              " 'Руководитель по кредитованию',\n",
              " 'QA (функциональное тестирование) СберТех',\n",
              " 'Инженер по информационной безопасности',\n",
              " 'Бизнес-аналитик / CJE',\n",
              " 'Старший менеджер по обслуживанию д. Луговое',\n",
              " 'Стажер Sberseasons Экономика и финансы Весна',\n",
              " 'Старший менеджер по обслуживанию (с. Колтовское)',\n",
              " 'Инженер OpenStack ( Junior )',\n",
              " 'Водитель-инкассатор, г.Видное',\n",
              " 'Старший специалист по взысканию Отдела досудебного взыскания задолженности',\n",
              " 'Главный клиентский менеджер (Крупнейший, крупный и средний бизнес)',\n",
              " 'Старший менеджер по обслуживанию (п.Шамары)',\n",
              " 'Инженер  функционального тестирования',\n",
              " 'Бизнес-аналитик CRM. Руководитель направления CRM Дивизион `Массовая персонализация`',\n",
              " 'Владелец продукта (BI)',\n",
              " 'UX исследователь (проект SberPRM)',\n",
              " 'Разработчик АХД',\n",
              " 'Главный инженер по разработке (проект «Внедрение МСФО17»)',\n",
              " 'Клиентский менеджер',\n",
              " 'Руководитель команды разработки / TeamLead  (развитие платформы данных на базе Hadoop)',\n",
              " 'Стажер SberSeasons Data Science',\n",
              " 'Сервис-менеджер',\n",
              " 'Руководитель развития игрового направления СберСпасибо',\n",
              " 'Data Scientist (Управление внутреннего аудита)',\n",
              " 'Planning менеджер',\n",
              " 'Практикант (г. Екатеринбург)',\n",
              " 'Юрист (корпоративное право)',\n",
              " 'Frontend developer (сервисы для Private Banking)',\n",
              " 'Инженер сопровождения',\n",
              " 'Customer Journey Expert, сегмент «Дети, Молодежь и Родители»',\n",
              " 'Руководитель проекта /Отдел управления рисками/, (Центральный офис Москва)',\n",
              " 'Руководитель направления управленческой отчетности по операционному риску',\n",
              " 'Главный инженер по сопровождению (RunFintech)',\n",
              " 'Системный аналитик. Сервис Автокредитование',\n",
              " 'Системный аналитик/ Тестировщик Diasoft',\n",
              " 'Старший менеджер по обслуживанию (с. Рудянское)',\n",
              " 'Middle/Senior Developer & Team Leader',\n",
              " 'Стажер SberSeasons Java',\n",
              " 'Старший ИТ-инженер',\n",
              " 'Водитель-инкассатор',\n",
              " 'Старший аналитик',\n",
              " 'Разработчик Android (СберЧат)',\n",
              " 'Ведущий юрисконсульт',\n",
              " 'Java разработчик (гибридного хранилища данных Сбербанка)',\n",
              " 'Инженер Golang (Platform.V.Monitor)',\n",
              " 'Java разработчик (Медицина)',\n",
              " 'Системный аналитик в Сбер Аналитику',\n",
              " 'Руководитель направления ABAP',\n",
              " 'devOps engineer',\n",
              " 'Главный  java - разработчик (Управление развития технологий корпоративного взыскания)',\n",
              " 'Java Developer (Payments)',\n",
              " 'Специалист (проект \"Разметка данных\")',\n",
              " 'Junior DevOps-инженер',\n",
              " 'Administrator Linux/DevOps',\n",
              " 'Старший специалист по рассмотрению претензий на английском языке',\n",
              " 'Руководитель группы сопровождения',\n",
              " 'Менеджер по работе с ключевыми партнерам',\n",
              " 'Qlik Sense Designer',\n",
              " 'Старший менеджер по обслуживанию (с. Жуково)',\n",
              " 'Ведущий специалист отдела сложных операций',\n",
              " 'Java разработчик (интернет-банк Сбер Бизнес для малых предпринимателей)',\n",
              " 'Product Owner (SberUser)',\n",
              " 'Старший специалист сектора развития инфраструктуры',\n",
              " 'Java Developer Sber Data Exchange',\n",
              " 'Старший менеджер по обслуживанию (д.Пронино)',\n",
              " 'Руководитель направления центра поддержки продуктов казначейства',\n",
              " 'Senior Java разработчик (Legal Tech)',\n",
              " 'Старший менеджер по обслуживанию (с. Старый Шагирт)',\n",
              " 'Data Engineer (Аналитик)',\n",
              " 'Project manager по направлению системы печати и оргтехники',\n",
              " 'Старший менеджер по работе с партнерами жилищного кредитования',\n",
              " 'Главный инженер поддержки витринных данных( Hadoop)',\n",
              " 'Старший менеджер по продажам нефинансовых сервисов',\n",
              " 'Региональный менеджер (Супер-коуч)',\n",
              " 'Старший менеджер по обслуживанию (Омская обл, Одесский, с Благодаровка )',\n",
              " 'Клиентский менеджер СберПервый',\n",
              " 'Старший менеджер по обслуживанию  (с. Калиновка)',\n",
              " 'Разработчик DevOps',\n",
              " 'Главный специалист Отдела оформления депозитарных операций (направление корпоративные действия)',\n",
              " 'Системный аналитик на хранилище данных',\n",
              " 'Старший менеджер по обслуживанию (д. Аксаитово)',\n",
              " 'Risk Quant (Quantitative Analyst)',\n",
              " 'Аналитик (ресечер)',\n",
              " 'Архитектор (Фабрика Данных)',\n",
              " 'Инженер сопровождения Hadoop',\n",
              " 'Технический эксперт DaaS',\n",
              " 'Аналитик (Hadoop)',\n",
              " 'Менеджер проекта (Новые форматы размещения УС)',\n",
              " 'Аналитик (киберриски)',\n",
              " 'Администратор команды блока риски',\n",
              " 'Строительный эксперт',\n",
              " 'Разработчик IBSO',\n",
              " 'Инспектор (Отдел технических средств охраны)',\n",
              " 'Системный аналитик (проект \"Оценка рисков\")',\n",
              " 'Функциональный администратор (инженер технической поддержки)',\n",
              " 'Ведущий инженер по кибербезопасности (Отдел управляющих процессов)',\n",
              " 'Data Engineer',\n",
              " 'Старший кредитный аналитик',\n",
              " 'разработчик hadoop',\n",
              " 'Senior/Middle Frontend разработчик в СберБизнес',\n",
              " 'Кредитный инспектор по работе с юридическими лицами',\n",
              " 'Java Developer (Middle)',\n",
              " 'Старший менеджер по обслуживанию (с. Серга)',\n",
              " 'Категорийный менеджер',\n",
              " 'Старший инженер по разработке',\n",
              " 'Старший менеджер по обслуживанию (Омская область, Павлоградский район, с.Новоуральское)',\n",
              " 'Front-end разработчик корпоративной сервисной шины',\n",
              " 'UX /UI дизайнер',\n",
              " 'QA инженер (Private Banking)',\n",
              " 'Главный специалист (кредитные риски)',\n",
              " 'Product owner в сегмент Интернет-коммерции (E-commerce).',\n",
              " 'Аналитик (команда разработки мониторинга)',\n",
              " 'Ведущий разработчик',\n",
              " 'Frontend developer JavaScript (React/Redux)',\n",
              " 'QA-инженер (платформа развития бизнеса)',\n",
              " 'Стажер SberSeasons JavaScript',\n",
              " 'Java разработчик',\n",
              " 'Выездной клиентский менеджер',\n",
              " 'Администратор баз данных PostgreSQL/PostgreSQL DBA',\n",
              " 'Full-Stack Developer',\n",
              " 'Руководитель проектов маркетинговых активностей',\n",
              " 'Старший менеджер по обслуживанию,Камчатский край,  Тигильский район, с. Усть-Хайрюзово',\n",
              " 'Кредитный инспектор Управления кредитования',\n",
              " 'Инженер/администратор тестовых сред',\n",
              " 'Начальник сектора продаж розничных продуктов в Управлении прямых продаж',\n",
              " 'Рекрутер Executive',\n",
              " 'QA Automation Engineer',\n",
              " 'Android разработчик',\n",
              " 'Старший менеджер по обслуживанию, с. Бочкари',\n",
              " 'Java разработчик (сеньор)',\n",
              " 'Старший руководитель ИТ-направления',\n",
              " 'Старший менеджер по обслуживанию с. Новоникольское Грачевского  района',\n",
              " 'Старший менеджер по обслуживанию (с. Верхняя Елюзань)',\n",
              " 'Старший менеджер по обслуживанию (с. Пичевка)',\n",
              " 'Инженер поддержки (support)',\n",
              " 'Разработчик Java',\n",
              " 'Менеджер продаж продуктов глобальных рынков',\n",
              " 'Старший менеджер по обслуживанию (с.Байны)',\n",
              " 'Ведущий руководитель ИТ-направления',\n",
              " 'Менеджер по продажам (п. Солнечный)',\n",
              " 'Мобильный менеджер по продажам Видное',\n",
              " 'Ведущий эксперт по внедрению и сопровождению беспроводных сетей (Wi-Fi)',\n",
              " 'Стажер Sberseasons Нагрузочное тестирование Весна',\n",
              " 'Data engineer',\n",
              " 'List-аналитик / Менеджер по сегментации клиентской базы',\n",
              " 'SQL - разработчик (Oracle)',\n",
              " 'Middle/Senior Machine Learning Engineer (Управление торгового финансирования)',\n",
              " 'SRE/DevOps',\n",
              " 'Java Lead (Единый инструмент принятия решений)',\n",
              " 'Сервис-менеджер по обслуживанию зданий',\n",
              " 'Product owner AI решений',\n",
              " 'Руководитель направления (CI/CD)',\n",
              " 'Практиканты Воронеж',\n",
              " 'Data scientist (команда ИСУ)',\n",
              " 'Главный аналитик (СберДруг)',\n",
              " 'Java/Scala разработчик',\n",
              " 'Devops',\n",
              " 'Старший разработчик Oracle',\n",
              " 'ABAP разработчик под АСУС EWM',\n",
              " 'Front-end Team Lead (eFX Web UI)',\n",
              " 'Ведущий аналитик Центра рисков розничного взыскания',\n",
              " 'Middle/Senior Java Developer',\n",
              " 'Бизнес-аналитик (Qlik View/Sense)',\n",
              " 'Эксперт по сопровождению аккредитации',\n",
              " 'Разработчик DWH',\n",
              " 'Системный аналитик (Pega BPM)',\n",
              " 'QA (JAVA)',\n",
              " 'Бизнес аналитик направление дистрибуция',\n",
              " 'Специалист /Отдел оформления стандартных сделок/, (Воронеж)',\n",
              " 'Инженер отдела администрирования средств защиты',\n",
              " 'Менеджер',\n",
              " 'Product Owner|реализация решений для крупных клиентов в каналах ДБО СберБизнес',\n",
              " 'iOS developer',\n",
              " 'Старший менеджер Управления финансовых институтов по работе с китайскими и арабскими банками',\n",
              " 'Сервис-менеджер (Сопровождение систем в тестовом и промышленном окружении)',\n",
              " 'Начальник отдела досудебного взыскания задолженности',\n",
              " \"Аналитик БД в Дивизион 'Транзакционный бизнес'\",\n",
              " 'Главный клиентский менеджер регионального госсектора',\n",
              " 'Системный аналитик, СберИнвестор',\n",
              " 'Участники олимпиады Я Профессионал',\n",
              " 'QA- инженер',\n",
              " 'Региональный директор',\n",
              " 'Руководитель направления в Проектный офис Операционного центра',\n",
              " 'HR менеджер',\n",
              " 'Data Engineer (ЦКМ)',\n",
              " 'QA/Тестировщик (платформа развития бизнеса)',\n",
              " 'frontend разработчик (senior)',\n",
              " 'HeadStart@SberCIB - Программа стажировок в Сбер КИБ',\n",
              " 'Android-developer',\n",
              " 'Старший инженер отдела ИТ сопровождения пользователей фронтальных бизнес-систем',\n",
              " 'Senior java разработчик (Медицина)',\n",
              " 'Администратор зала',\n",
              " 'Старший менеджер по обслуживанию (Омская обл, Русско-Полянский, с Добровольск,)',\n",
              " 'Количественный аналитик Инвестиционного центра',\n",
              " 'Эксперт Управления планирования и отчетности',\n",
              " 'IOS-разработчик',\n",
              " 'Инженер по оборудованию ЦОД',\n",
              " 'Senior IOS-developer',\n",
              " 'Системный аналитик (Экосистема)',\n",
              " 'Региональный менеджер Управления Благосостояния',\n",
              " 'Техник (команда беспилотника)',\n",
              " 'Data Scientist - команда CLTV. Дивизион `Массовая персонализация`',\n",
              " 'Автотестировщик',\n",
              " 'Python-разработчик. Команда виртуальных ассистентов',\n",
              " 'Клиентский менеджер малого бизнеса',\n",
              " 'Ведущий инженер по разработке C#',\n",
              " 'Руководитель проектов дирекции по развитию корпоративной культуры',\n",
              " 'Специалист по прямым продажам Серпухов',\n",
              " 'Главный специалист Управления поддержки документарных операций',\n",
              " 'Финансовый аналитик',\n",
              " 'Старший специалист центра мониторинга',\n",
              " 'Специалист в Архив',\n",
              " 'Middle/Senior QA инженер (цифровая платформа)',\n",
              " 'Системный аналитик (проект Fair Pricing)',\n",
              " 'Менеджер направления развития процессов и продуктов',\n",
              " 'Data Scientist (Кибербезопасность)',\n",
              " 'Team Lead QA',\n",
              " 'Технологический руководитель команды',\n",
              " 'Тестировщик',\n",
              " 'Инженер по сопровождению (дежурная смена)',\n",
              " 'Эксперт- аналитик  по работе с большими базами данных',\n",
              " 'Java Team Lead (SberNBA)',\n",
              " 'Инженер по разработке Java',\n",
              " 'Специалист центра оперативной поддержки партнеров и ипотечного кредитования',\n",
              " 'Старший аудитор',\n",
              " 'Старший менеджер по обслуживанию п. Приуральский Оренбургского района',\n",
              " 'Разработчик ORACLE (PL/SQL)',\n",
              " 'Разработчик SAS',\n",
              " 'Frontend developer (Интерфейс оператора чата)',\n",
              " 'QA engineer (беспилотник)',\n",
              " 'Администратор автоматизированной системы(в команду развития фронтальных АС)',\n",
              " 'Java Lead / Java Developer',\n",
              " 'Главный клиентский менеджер по работе с клиентами отрасли машиностроение',\n",
              " 'Разработчик SQL (Oracle PL/SQL)',\n",
              " 'Клиентский менеджер (Поставщик)',\n",
              " 'Начальник отдела (проект \"Разметка данных\")',\n",
              " 'Инженер Devops (Сайт Sberbank.ru)',\n",
              " 'Старший менеджер по обслуживанию (п. Покровск-Уральский)',\n",
              " 'Системный аналитик (проект интернет-банк СберБизнес )',\n",
              " 'Системный администратор VDI (DaaS)',\n",
              " 'Инженер (DevOps)',\n",
              " 'Главный аналитик по работе с проблемными активами',\n",
              " 'Руководитель разработки платформы рекомендаций',\n",
              " 'Devops инженер (junior)',\n",
              " 'Старший клиентский менеджер крупного и среднего бизнеса',\n",
              " 'QA Lead',\n",
              " 'Senior Системный аналитик (кредитный мониторинг)',\n",
              " 'Руководитель направления (инвестиционное кредитование)',\n",
              " 'Трейдер группы исполнения приказов клиентов на финансовых рынках',\n",
              " 'Юрист/Аналитик по направлению\\xa0(правовые проблемы и регулирование ИИ)',\n",
              " 'Администратор АС (сопровождение)',\n",
              " 'Менеджер по обслуживанию',\n",
              " 'Project-менеджер на проект smart-kassa',\n",
              " 'Старший менеджер по обслуживанию (п. Кузнецовский)',\n",
              " 'Руководитель клиентско-продуктовой команды',\n",
              " 'Старший менеджер по обслуживанию, с. Чарышское',\n",
              " 'Начальник отдела зарплатных проектов',\n",
              " 'Стажер по нагрузочному тестированию',\n",
              " 'Менеджер по продажам (с.Белозерское)',\n",
              " 'Администратор системы SpeechAnalytics / SRE (команда SberDevices)',\n",
              " 'Ведущий аналитик данных . Руководитель направления Дивизион `Массовая персонализация`',\n",
              " 'Менеджер по продажам (с. Коротояк)',\n",
              " 'Менеджер (Центр организации обработки и защиты персональных данных)',\n",
              " 'Клиентский менеджер по работе с крупным бизнесом отрасли торговля',\n",
              " 'Системный аналитик',\n",
              " 'Старший специалист по пожарной безопасн.',\n",
              " 'Стажер Java школы (Ростов-на-Дону)',\n",
              " 'DevOps Инженер',\n",
              " 'Мобильный менеджер по продажам г. Карталы',\n",
              " 'Middle/ Senior front-end Developer (Комплаенс)',\n",
              " 'Ведущий эксперт DAG',\n",
              " 'Мобильный менеджер по продажам Воскресенск',\n",
              " 'Customer Journey Expert',\n",
              " 'Ведущий инженер сопровождения OpenShift\\\\Kubernetes',\n",
              " 'Android разработчик (Sber911)',\n",
              " 'Devops - инженер',\n",
              " 'Менеджер по оценке проектов (Дивизион \"Центр корпоративных решений\")',\n",
              " 'DevOps Engineer',\n",
              " 'Старший менеджер по обслуживанию (с.Цолга)',\n",
              " 'Python-разработчик',\n",
              " 'Аудитор (с навыками аналитика, программиста)',\n",
              " 'Старший менеджер по обслуживанию (п. Марковский)',\n",
              " 'Системный аналитик (проект Единое рабочее место сотрудника Операционного центра)',\n",
              " 'Аналитик / data analyst. Дивизион `Лояльность`',\n",
              " 'Middle Java Developer (Единая система рассылок клиентам)',\n",
              " 'Разработка витрин в Облаке Данных(Data Engineer)',\n",
              " 'Frontend (Vue.js) разработчик',\n",
              " 'Старший клиентский менеджер (крупный/средний бизнес)',\n",
              " 'Senior Data Scientist NLP (Команда ботов в голосовых и текстовых каналах)',\n",
              " 'Бизнес-аналитик (кампании продаж)',\n",
              " 'Специалист по разметке данных',\n",
              " 'Senior / Middle QA engineer (Сбербизнес)',\n",
              " 'Старший инженер по разработке (АТ)',\n",
              " 'Инженер тестировщик',\n",
              " 'Главный эксперт по контактным центрам',\n",
              " 'Руководитель команды Отчетность и Аналитика',\n",
              " 'Senior Data Scientist (knowledge mining)',\n",
              " 'Менеджер по работе с партнерами ипотечного кредитования',\n",
              " 'Специалист по прямым продажам Димитровград',\n",
              " 'Старший менеджер по обслуживанию (пгт Новоаганск)',\n",
              " 'Главный клиентский менеджер Отдела финансирования недвижимости',\n",
              " 'Менеджер по продажам г. Троицк',\n",
              " 'Архитектор БД (Greenplum,\\xa0Teradata)',\n",
              " 'DPO (Корпоративно-инвестиционный блок)',\n",
              " 'Кредитный эксперт (кредитный мониторинг)',\n",
              " 'Кредитный инспектор',\n",
              " 'Эксперт по кибербезопасности (расследование инцидентов)',\n",
              " 'Разработчик spark',\n",
              " 'Аналитик IBSO',\n",
              " 'Java разработчик (SBI)',\n",
              " 'Системный аналитик(с\\xa0функцией\\xa0Delivery Lead)',\n",
              " 'Старший менеджер по обслуживанию с.Степановка Переволоцкого района',\n",
              " 'Senior Data analyst (блок УБ, команда инвестиционных продуктов)',\n",
              " 'Лидер Сегмента \"Массовый высокодоходный сегмент\"',\n",
              " 'Product Owner по работе с обращениями',\n",
              " 'Аналитик-разработчик управленческой отчетности по конверсии',\n",
              " 'Практика_Ульяновск',\n",
              " 'Менеджер по продажам р.п. Ачит',\n",
              " 'Руководитель направления по дистанционному обучению',\n",
              " 'Product Owner',\n",
              " 'Лингвист',\n",
              " 'Старший менеджер по обслуживанию (Ордынский р-он, с.Новопичугово)',\n",
              " 'Системный аналитик в команду \"Поток продаж\"',\n",
              " 'Главный специалист (риски банковской книги)',\n",
              " 'QA-инженера (команда виртуальных ассистентов)',\n",
              " 'Старший кассир',\n",
              " 'Администратор Unix',\n",
              " 'Мобильный менеджер по продажам Подольск',\n",
              " 'Системный аналитик ППРБ',\n",
              " 'Специалист по бюджетированию и планированию в строительстве',\n",
              " 'Senior Java разработчик (ЦКМ, микросервисы)',\n",
              " 'QA Automation Engineer (проект Сбердруг)',\n",
              " 'Middle fullstack developer',\n",
              " 'Тестировщик (Функциональное тестирование)',\n",
              " 'Разработчик BI',\n",
              " 'Руководитель эксплуатации и сопровождения',\n",
              " 'Аналитик (SAS Кампании продаж)',\n",
              " 'Разработчик',\n",
              " 'Старший менеджер по обслуживанию',\n",
              " 'Ведущий аналитик',\n",
              " 'Ведущий аналитик данных (Корпоративный блок)',\n",
              " 'java разработчик. Сберегательные продукты',\n",
              " 'Senior Java Developer (ЕРМГР)',\n",
              " 'Software Engineer (Java)',\n",
              " 'DevOps инженер (R&D)',\n",
              " 'Помощник управляющего Новосибирским  отделением',\n",
              " 'Клиентский менеджер Сбербанк Первый',\n",
              " 'Лидер АС',\n",
              " 'Разработчик SQL, Custody Self',\n",
              " 'Кредитный инспектор отдела кредитования корпоративных клиентов среднего и крупного бизнеса',\n",
              " 'Старший менеджер по обслуживанию (с. Анучино)',\n",
              " 'Старший менеджер по обслуживанию (с.Моторское)',\n",
              " 'Full-stack разработчик (C#)',\n",
              " 'Back-end разработчик (Python)',\n",
              " 'Аналитик данных (аналитические витрины)',\n",
              " 'Back-end разработчик (Java)',\n",
              " 'Клиентский менеджер \"Сбербанк Первый\"',\n",
              " 'Middle Data Scientist в команду трайба «Эквайринг»',\n",
              " 'Консультант по брокерскому обслуживанию',\n",
              " 'Руководитель направления по созданию вендинговой сети',\n",
              " 'Руководитель центра персонального обслуживания',\n",
              " 'Java разработчик (фронтальные процессы для системы Сбербанк Онлайн)',\n",
              " 'JavaScript разработчик Сбербанк Бизнес Он-лайн',\n",
              " 'Data Scientist (PFM, блок Управление Благосостоянием)',\n",
              " 'Backend-Разработчик(Java)',\n",
              " 'iOS-разработчик',\n",
              " 'Администратор СУБД PostgreSQL',\n",
              " 'Руководитель направления по оптимизации очередей в Контакт-центре',\n",
              " 'Разработчик АБС ЦФТ-Банк',\n",
              " 'Стажер Sberseasons Analytics (SQL,VBA)',\n",
              " 'Инженер поддержки тестирования',\n",
              " 'Менеджер по продажам с. Старосубхангулово',\n",
              " 'Администратор тестовых стендов',\n",
              " 'Методолог (внутренняя безопасность)',\n",
              " 'Менеджер направления сервис и качество',\n",
              " 'Java Team Lead',\n",
              " 'Старший менеджер по обслуживанию (с. Кукарки)',\n",
              " 'ИТ-инженер',\n",
              " 'Секретарь руководителя',\n",
              " 'Инженер ППРБ',\n",
              " 'Java разработчик (Ситуационный центр)',\n",
              " 'Data инженер / Data engineer',\n",
              " 'Senior Java Developer',\n",
              " 'Системный аналитик для проекта Миграции СББОЛ на ЕФС',\n",
              " 'Ведущий специалист по работе с залогами',\n",
              " 'Специалист по работе с внутренними клиентами (сотрудниками компании)',\n",
              " 'Главный системный аналитик (сервисы для Private Banking)',\n",
              " 'QA Automation Engineer (iOS)',\n",
              " 'Технический руководитель проекта. Кластер POS-кредитования',\n",
              " 'Финансовый советник',\n",
              " 'Senior/Middle Java разработчик (Devops)',\n",
              " 'Senior/Middle Java-разработчик (искусственный интеллект)',\n",
              " 'IOS-developer',\n",
              " 'IT Эксперт (Надежность)',\n",
              " 'ITAL. Кластер POS-кредитования',\n",
              " 'Тестировщик (Manual Testing)',\n",
              " 'Devops инженер (SberUser)',\n",
              " 'Руководитель направления Qlik Дивизион `Лояльность`',\n",
              " 'Менеджер по сопр.продуктов плат.сервисов',\n",
              " 'Владелец продукта Портал впечатлений',\n",
              " 'Ст.спец.судебного и исполнит.произв-ва',\n",
              " 'Финансист в команду бизнес-планирования доходов (Розничный бизнес)',\n",
              " 'Специалист по сопровождению новых видов оборудования и внешних сетей устройств самообслуживания',\n",
              " 'Корректор-редактор (договор ГПХ)',\n",
              " 'Оператор контактного центра (call-центр)',\n",
              " 'Главный клиентский менеджерTechSales',\n",
              " 'Бизнес-аналитик (Дивизион \"Государственные продукты и сервисы\")',\n",
              " 'Продуктовый аналитик в рекомендательную систему',\n",
              " 'IT CL',\n",
              " 'Старший менеджер по обслуживанию (п. Волово)',\n",
              " 'Методолог',\n",
              " 'Старший инженер отдела информационной безопасности',\n",
              " 'Middle / Senior Java Developer (SberDevices)',\n",
              " 'Кредитный аналитик (проектное финансирование)',\n",
              " 'Системный аналитик (развитие event-сегмента облачной интеграционной платформы)',\n",
              " 'Ведущий эксперт IT инфраструктуры',\n",
              " 'Senior Python разработчик',\n",
              " 'Территориальный менеджер HR',\n",
              " 'Старший кредитный аналитик (сегмент малый бизнес)',\n",
              " 'Старший менеджер по обслуживанию (с.Ильино)',\n",
              " 'Ит-рекрутер',\n",
              " 'Дизайнер UX/UI',\n",
              " 'Pega разработчик уровня Middle или Senior',\n",
              " 'специалист по прямым продажам',\n",
              " 'Главный Java разработчик (проект по разработке платформы АС «Банковское страхование»)',\n",
              " 'JavaScript разработчик',\n",
              " 'Менеджер по целеполаганию и контролю достижения целей',\n",
              " 'Главный юрисконсульт',\n",
              " 'Senior Data инженер/Senior Data engineer',\n",
              " 'React Frontend разработчик (ведущий инженер)',\n",
              " 'Ведущий специалист по направлению корпоративных/спортивных мероприятий',\n",
              " 'Руководитель направления',\n",
              " 'Водитель-инкассатор, г. Королев',\n",
              " 'Эксперт',\n",
              " 'Региональный менеджер',\n",
              " 'Начальник отдела /Отдел продаж лизинга крупному и среднему бизнесу/, (Санкт-Петербург)',\n",
              " 'Инженер по разработке',\n",
              " 'Разработчик ABAP',\n",
              " 'Аналитик (проект «Разметка данных»)',\n",
              " 'Product Owner на развитие механизмов идентификации и аутентификации в физических каналах Банка',\n",
              " 'Кредитный аналитик (организация мониторинга кредитных операций)',\n",
              " 'Руководитель розничного направления дирекции интеграции продуктов экосистемы',\n",
              " 'Старший клиентский менеджер (Крупнейший, крупный и средний бизнес/Управление промышленности)',\n",
              " 'Project manager в чаптер «Боты в голосе и тексте»',\n",
              " 'Java - разработчик',\n",
              " 'Менеджер по продажам продуктов ВЭД',\n",
              " 'Руководитель проектов (Кластер \"Управление ценой и доходностью\")',\n",
              " 'Devops инженер\\xa0(SberRadar)',\n",
              " 'ИТ рекрутер в направление Data Science(Санкт-Петербург)',\n",
              " 'Аналитик данных/Администратор проектов',\n",
              " 'Директор по маркетингу и внешним коммуникациям',\n",
              " 'Разработчик SQL',\n",
              " 'Старший системный аналитик (проект Медицина)',\n",
              " 'Product Owner по развитию инвестиционных продуктов',\n",
              " 'Операционный менеджер',\n",
              " 'Главный специалист управления по работе с проблемными активами юридических лиц',\n",
              " 'Клиентский менеджер Сбербанк Премьер',\n",
              " 'Специалист отдела телемаркетинга',\n",
              " ...}"
            ]
          },
          "metadata": {},
          "execution_count": 12
        }
      ]
    },
    {
      "cell_type": "code",
      "source": [
        "# Количество уникальных вакансий\n",
        "len(uniq_vacs_title)"
      ],
      "metadata": {
        "colab": {
          "base_uri": "https://localhost:8080/"
        },
        "id": "zjlz6sLZCSkI",
        "outputId": "099d0774-5969-4490-a3f8-fd3e030f0723"
      },
      "execution_count": null,
      "outputs": [
        {
          "output_type": "execute_result",
          "data": {
            "text/plain": [
              "2167"
            ]
          },
          "metadata": {},
          "execution_count": 13
        }
      ]
    },
    {
      "cell_type": "code",
      "source": [
        "# Вакансии data scientist\n",
        "vacs_data_science = [ row for row in vacs if row['vactitle'] == 'Data Scientist' ]\n",
        "len(vacs_data_science)"
      ],
      "metadata": {
        "colab": {
          "base_uri": "https://localhost:8080/"
        },
        "id": "8pM70yI5EoE8",
        "outputId": "541a789c-166a-4b0e-80da-1e81ebd5d3fc"
      },
      "execution_count": null,
      "outputs": [
        {
          "output_type": "execute_result",
          "data": {
            "text/plain": [
              "7"
            ]
          },
          "metadata": {},
          "execution_count": 14
        }
      ]
    },
    {
      "cell_type": "code",
      "source": [
        "vacs_data_science[1]"
      ],
      "metadata": {
        "colab": {
          "base_uri": "https://localhost:8080/"
        },
        "id": "2h4lkmpwEoHf",
        "outputId": "e3254f8a-f341-42ab-ea76-b10470a8e0f7"
      },
      "execution_count": null,
      "outputs": [
        {
          "output_type": "execute_result",
          "data": {
            "text/plain": [
              "OrderedDict([('id', '384300'),\n",
              "             ('created_at', '2021-03-14 09:39:21.854462'),\n",
              "             ('updated_at', '2021-03-14 09:39:21.854584'),\n",
              "             ('vacid', '1543542'),\n",
              "             ('vactitle', 'Data Scientist'),\n",
              "             ('vacdescription',\n",
              "              'УсловияПолный рабочий день, свободный графикДостойная заработная плата (оклад + годовая премии)Современные рабочие места и программное обеспечение ДМС, корпоративная пенсионная программа Возможность посещения конференций, обучения и сертификации за счет компании.Программа льготного кредитования в Сбербанке.Дисконт-программы от множества компаний партнеров.Возможность принять участие в других крупных и уникальных проектах банка.Доступ к уникальным технологическим ресурсам банка, в том числе, суперкомпьютеру Christofari.Разработка промышленных решений на базе ML и AI всегда сильно отличалась от участия в Kaggle и хобби проектов, а если речь идет о решениях, работающих с большими объемами данных, под высокой нагрузкой разработка превращается в настоящее искусство. Но наша задача еще амбициознее – создать платформу AI, позволяющую любому сотруднику Сбера строить и запускать в промышленную эксплуатацию ML/AI решения, используя все передовые наработки классического, глубокого и распределенного МЛ, концентрируясь на бизнес-задаче с минимальными накладными расходами на сопутствующие технологические процессы и сложности. AI платформа включает в себя инструменты разработки и тестирования моделей, платформы исполнения моделей в пакетном, потоковом и онлайн режиме, MLOps трубы для развертывания, шаблоны для решение типовых задач и AutoML, ориентированные на Citizen DS, инструменты и системы мониторинга, автоматизации функционального, нагрузочного и А/Б тестирования. В основе платформы лежит открытый стек технологий экосистем Python (Sklearn+, PyTorch, XgBoost и т.д.), Big Data (Spark, Greenplum, Kafka, Cassandra, Flink и т.д.), Java/Scala (Spring), облачных решений (Docker, OpenShift). ОбязанностиУчастие в разработке архитектуры платформыМониторинг состояния SOTA решений в области промышленного ML и анализ перспективности применения в рамках платформыРеализация переноса ML алгоритмов в распределенную среду.Разработка шаблонов ML решений для разных типов задач с использованием AutoML.Ревью кода и его документированиеРазработка обучающих материалов по платформе и проведение семинаров, демонстрацийГенерация свежих идей как для платформы, так и для других продуктов банка 😊 Требования Опыт работы с промышленным МЛ от 2-х летПлюсом опыт работы JVM стеком и/или распределенными МЛ-алгоритмами (Spark, H2O)Знание принципов организации распределённых информационных систем, алгоритмов и баз данныхЗнакомство с современными практиками разработки Scrum/Kanban/TDD Опыт работы с продуктами Apache (Сassandra, Hadoop, Kafka, Spark, Flink)Способность работать в командеПлюсом – навыки публичных выступлений и/или проведения обучающих программ Разработка промышленных решений на базе ML и AI всегда сильно отличалась от участия в Kaggle и хобби проектов, а если речь идет о решениях, работающих с большими объемами данных, под высокой нагрузкой разработка превращается в настоящее искусство. Но наша задача еще амбициознее – создать платформу AI, позволяющую любому сотруднику Сбера строить и запускать в промышленную эксплуатацию ML/AI решения, используя все передовые наработки классического, глубокого и распределенного МЛ, концентрируясь на бизнес-задаче с минимальными накладными расходами на сопутствующие технологические процессы и сложности. AI платформа включает в себя инструменты разработки и тестирования моделей, платформы исполнения моделей в пакетном, потоковом и онлайн режиме, MLOps трубы для развертывания, шаблоны для решение типовых задач и AutoML, ориентированные на Citizen DS, инструменты и системы мониторинга, автоматизации функционального, нагрузочного и А/Б тестирования. В основе платформы лежит открытый стек технологий экосистем Python (Sklearn+, PyTorch, XgBoost и т.д.), Big Data (Spark, Greenplum, Kafka, Cassandra, Flink и т.д.), Java/Scala (Spring), облачных решений (Docker, OpenShift). ОбязанностиУчастие в разработке архитектуры платформыМониторинг состояния SOTA решений в области промышленного ML и анализ перспективности применения в рамках платформыРеализация переноса ML алгоритмов в распределенную среду.Разработка шаблонов ML решений для разных типов задач с использованием AutoML.Ревью кода и его документированиеРазработка обучающих материалов по платформе и проведение семинаров, демонстрацийГенерация свежих идей как для платформы, так и для других продуктов банка 😊 Требования Опыт работы с промышленным МЛ от 2-х летПлюсом опыт работы JVM стеком и/или распределенными МЛ-алгоритмами (Spark, H2O)Знание принципов организации распределённых информационных систем, алгоритмов и баз данныхЗнакомство с современными практиками разработки Scrum/Kanban/TDD Опыт работы с продуктами Apache (Сassandra, Hadoop, Kafka, Spark, Flink)Способность работать в командеПлюсом – навыки публичных выступлений и/или проведения обучающих программ УсловияПолный рабочий день, свободный графикДостойная заработная плата (оклад + годовая премии)Современные рабочие места и программное обеспечение ДМС, корпоративная пенсионная программа Возможность посещения конференций, обучения и сертификации за счет компании.Программа льготного кредитования в Сбербанке.Дисконт-программы от множества компаний партнеров.Возможность принять участие в других крупных и уникальных проектах банка.Доступ к уникальным технологическим ресурсам банка, в том числе, суперкомпьютеру Christofari.'),\n",
              "             ('vacdate', '2021-03-05'),\n",
              "             ('vacstatus', 'new'),\n",
              "             ('vaclink',\n",
              "              'https://my.sbertalents.ru/#/job-requisition/1543542')])"
            ]
          },
          "metadata": {},
          "execution_count": 15
        }
      ]
    },
    {
      "cell_type": "code",
      "source": [
        "# Все недавние вакансии (все вакансии созданы в один день и одно и тоже время)\n",
        "recently_vacs = Counter(row['created_at'] for row in vacs)\n",
        "recently_vacs"
      ],
      "metadata": {
        "colab": {
          "base_uri": "https://localhost:8080/"
        },
        "id": "TI7SS9mXEoKA",
        "outputId": "1c5d9b8e-ac0f-4770-a34e-b3272b9e66c5"
      },
      "execution_count": null,
      "outputs": [
        {
          "output_type": "execute_result",
          "data": {
            "text/plain": [
              "Counter({'2021-03-14 09:39:21.854462': 4002})"
            ]
          },
          "metadata": {},
          "execution_count": 16
        }
      ]
    },
    {
      "cell_type": "code",
      "source": [
        "# Все недавно обновленные вакансии (все вакансии обновлены в один день и одно и тоже время)\n",
        "updated_vacs = Counter(row['updated_at'] for row in vacs)\n",
        "updated_vacs"
      ],
      "metadata": {
        "colab": {
          "base_uri": "https://localhost:8080/"
        },
        "id": "dv0T7jjHEoMm",
        "outputId": "d79f9024-6b04-41e6-f89a-bf27cba6eca0"
      },
      "execution_count": null,
      "outputs": [
        {
          "output_type": "execute_result",
          "data": {
            "text/plain": [
              "Counter({'2021-03-14 09:39:21.854584': 4002})"
            ]
          },
          "metadata": {},
          "execution_count": 17
        }
      ]
    },
    {
      "cell_type": "code",
      "source": [
        "# Все уникальные статусы (все статусы имеют статус new)\n",
        "uniq_vacs_status = { row['vacstatus'] for row in vacs }\n",
        "uniq_vacs_status"
      ],
      "metadata": {
        "colab": {
          "base_uri": "https://localhost:8080/"
        },
        "id": "MjxVgwTbEoPN",
        "outputId": "989b5ddf-842d-4f7c-92b4-7dc1e4316d1a"
      },
      "execution_count": null,
      "outputs": [
        {
          "output_type": "execute_result",
          "data": {
            "text/plain": [
              "{'new'}"
            ]
          },
          "metadata": {},
          "execution_count": 18
        }
      ]
    },
    {
      "cell_type": "code",
      "source": [
        "# Даты публикаций вакансий\n",
        "public_date_vacs = Counter(row['vacdate'] for row in vacs)"
      ],
      "metadata": {
        "id": "g2qtmzrIEoRy"
      },
      "execution_count": null,
      "outputs": []
    },
    {
      "cell_type": "code",
      "source": [
        "# Всех больше вакансий опубликовано:\n",
        "public_date_vacs.most_common(5)"
      ],
      "metadata": {
        "colab": {
          "base_uri": "https://localhost:8080/"
        },
        "id": "RUk-hUINEoUa",
        "outputId": "1f09725b-7c38-4012-e567-fad2922bb156"
      },
      "execution_count": null,
      "outputs": [
        {
          "output_type": "execute_result",
          "data": {
            "text/plain": [
              "[('2021-03-16', 214),\n",
              " ('2021-03-01', 204),\n",
              " ('2021-03-15', 188),\n",
              " ('2021-03-10', 187),\n",
              " ('2021-03-17', 186)]"
            ]
          },
          "metadata": {},
          "execution_count": 20
        }
      ]
    },
    {
      "cell_type": "code",
      "source": [
        "# Дата когда опублшиковано всех меньше вакансий\n",
        "public_date_vacs.most_common()[-1]"
      ],
      "metadata": {
        "colab": {
          "base_uri": "https://localhost:8080/"
        },
        "id": "D4K5mEKrEoXB",
        "outputId": "a69ce41f-024e-47ad-eb60-0df5792244c0"
      },
      "execution_count": null,
      "outputs": [
        {
          "output_type": "execute_result",
          "data": {
            "text/plain": [
              "('2020-10-21', 1)"
            ]
          },
          "metadata": {},
          "execution_count": 21
        }
      ]
    },
    {
      "cell_type": "code",
      "source": [
        "# Вакансии где нужен SQL\n",
        "import re\n",
        "vacs_python = [ row for row in vacs if re.search(r'\\bSQL\\b', \n",
        "                                                 row['vacdescription']) ]\n",
        "len(vacs_python)"
      ],
      "metadata": {
        "colab": {
          "base_uri": "https://localhost:8080/"
        },
        "id": "GnC80rEaEoZg",
        "outputId": "b5dec9f1-1a19-4be2-d687-b57f01448d6b"
      },
      "execution_count": null,
      "outputs": [
        {
          "output_type": "execute_result",
          "data": {
            "text/plain": [
              "919"
            ]
          },
          "metadata": {},
          "execution_count": 61
        }
      ]
    },
    {
      "cell_type": "code",
      "source": [
        "vacs_python[0]"
      ],
      "metadata": {
        "colab": {
          "base_uri": "https://localhost:8080/"
        },
        "id": "H_RwNHFHL_WV",
        "outputId": "cd31e75b-9fff-405f-fba5-539ec7fc7e86"
      },
      "execution_count": null,
      "outputs": [
        {
          "output_type": "execute_result",
          "data": {
            "text/plain": [
              "OrderedDict([('id', '383479'),\n",
              "             ('created_at', '2021-03-14 09:39:21.854462'),\n",
              "             ('updated_at', '2021-03-14 09:39:21.854584'),\n",
              "             ('vacid', '1474941'),\n",
              "             ('vactitle', 'Senior java-разработчик (в команду Онбординга)'),\n",
              "             ('vacdescription',\n",
              "              ' Работа у нас — это:команда профессионалов, готовых поддержать ваши инициативы;мощное железо, дополнительные мониторы и всё, что нужно для продуктивной работы;обучение за счёт компании;гибкий графиккрасивый и комфортный офис  г. Санкт-Петербург, м. Ладожская  пл. Карла Фаберже 8 ВДМС;прозрачная система бонусов и премий, достойная зарплата — размер обсудим на собеседовании.Информация о проекте:Наша команда делает новые экспериментальные фичи для СБОЛа.Сейчас мы разрабатываем систему, с помощью которой разные команды Сбера смогут создавать квесты для мобильного приложения.Также мы будем разрабатывать внутреннюю платформу для продуктовых экспериментов. Описание команды:2-pizza team: сейчас у нас работают разработчики iOS и Android, продакт и аналитик. К команде в ближайшее время подключится тестировщик и еще один аналитик. Мы ожидаем, что Вы:Работали раннее в продуктовой agile-команде;Имеете опыт работы больше 4 лет с Java и ее экосистемой;Владеете Spring: Core, MVC, Boot, Cloud;Работали с реляционными БД;Трепетно относитесь к тестовому покрытию;Будете относиться с заботой к нашим пользователям, продукту и команде. Будет здорово, если вы:Умеете готовить ansible;Работали с k8s;Использовали kafka;Умеете оптимизировать SQL-запросы. Вам предстоит:отвечать за качество технических решений;придумывать реализацию для безумных идей наших продактов;разрабатывать сервисы, интегрироваться с множеством систем банка.Информация о проекте:Наша команда делает новые экспериментальные фичи для СБОЛа.Сейчас мы разрабатываем систему, с помощью которой разные команды Сбера смогут создавать квесты для мобильного приложения.Также мы будем разрабатывать внутреннюю платформу для продуктовых экспериментов. Описание команды:2-pizza team: сейчас у нас работают разработчики iOS и Android, продакт и аналитик. К команде в ближайшее время подключится тестировщик и еще один аналитик. Мы ожидаем, что Вы:Работали раннее в продуктовой agile-команде;Имеете опыт работы больше 4 лет с Java и ее экосистемой;Владеете Spring: Core, MVC, Boot, Cloud;Работали с реляционными БД;Трепетно относитесь к тестовому покрытию;Будете относиться с заботой к нашим пользователям, продукту и команде. Будет здорово, если вы:Умеете готовить ansible;Работали с k8s;Использовали kafka;Умеете оптимизировать SQL-запросы. Вам предстоит:отвечать за качество технических решений;придумывать реализацию для безумных идей наших продактов;разрабатывать сервисы, интегрироваться с множеством систем банка. Работа у нас — это:команда профессионалов, готовых поддержать ваши инициативы;мощное железо, дополнительные мониторы и всё, что нужно для продуктивной работы;обучение за счёт компании;гибкий графиккрасивый и комфортный офис  г. Санкт-Петербург, м. Ладожская  пл. Карла Фаберже 8 ВДМС;прозрачная система бонусов и премий, достойная зарплата — размер обсудим на собеседовании.'),\n",
              "             ('vacdate', '2021-03-15'),\n",
              "             ('vacstatus', 'new'),\n",
              "             ('vaclink',\n",
              "              'https://my.sbertalents.ru/#/job-requisition/1474941')])"
            ]
          },
          "metadata": {},
          "execution_count": 62
        }
      ]
    },
    {
      "cell_type": "code",
      "source": [
        "# 3. Попробуйте ответить на вопросы:\n",
        "# Сколько вакансий, которые вам нравятся?\n",
        "vacs_like = [ row for row in vacs if re.search(\n",
        "    r'\\bРазработчик PL/SQL\\b|\\bFull Stack Developer\\b|\\bData Scientist\\b', \n",
        "    row['vactitle']) ]\n",
        "len(vacs_like)"
      ],
      "metadata": {
        "colab": {
          "base_uri": "https://localhost:8080/"
        },
        "id": "Jn1jhPMIL_Yt",
        "outputId": "656e5a19-c689-4e7f-e35a-53bd8960a65a"
      },
      "execution_count": null,
      "outputs": [
        {
          "output_type": "execute_result",
          "data": {
            "text/plain": [
              "48"
            ]
          },
          "metadata": {},
          "execution_count": 24
        }
      ]
    },
    {
      "cell_type": "code",
      "source": [
        "# За какие периоды эти вакансии?\n",
        "periods_like_vacs = [ row['vacdate'] for row in vacs_like]"
      ],
      "metadata": {
        "id": "XDtOnNVTL_c3"
      },
      "execution_count": null,
      "outputs": []
    },
    {
      "cell_type": "code",
      "source": [
        "print(f'Период: {sorted(periods_like_vacs)[0]} - {sorted(periods_like_vacs)[-1]}' )"
      ],
      "metadata": {
        "colab": {
          "base_uri": "https://localhost:8080/"
        },
        "id": "TXuWbn7xZx78",
        "outputId": "4acc83cc-0451-4c17-d597-d27c88cb722b"
      },
      "execution_count": null,
      "outputs": [
        {
          "output_type": "stream",
          "name": "stdout",
          "text": [
            "Период: 2020-11-12 - 2021-03-17\n"
          ]
        }
      ]
    },
    {
      "cell_type": "code",
      "source": [
        "# Сколько вакансий с такими позициями, на которых вы работаете?\n",
        "vacs_my_prof = [ row for row in vacs if row['vactitle'].\n",
        "                lower().find('специалист отдела сложных операций') > -1 ]\n",
        "len(vacs_my_prof)"
      ],
      "metadata": {
        "colab": {
          "base_uri": "https://localhost:8080/"
        },
        "id": "SOLxiWOeUsD8",
        "outputId": "12d5be30-bc87-4b37-fe10-55b59f2a6efb"
      },
      "execution_count": null,
      "outputs": [
        {
          "output_type": "execute_result",
          "data": {
            "text/plain": [
              "1"
            ]
          },
          "metadata": {},
          "execution_count": 48
        }
      ]
    },
    {
      "cell_type": "code",
      "source": [
        "# Сколько вакансий для аналитика данных?\n",
        "vacs_analytic = [ row for row in vacs if row['vactitle'] == 'Аналитик данных' ]\n",
        "len(vacs_analytic)"
      ],
      "metadata": {
        "colab": {
          "base_uri": "https://localhost:8080/"
        },
        "id": "N4twa3knVxwy",
        "outputId": "f8bc072b-207a-4459-b644-9a0797197044"
      },
      "execution_count": null,
      "outputs": [
        {
          "output_type": "execute_result",
          "data": {
            "text/plain": [
              "5"
            ]
          },
          "metadata": {},
          "execution_count": 28
        }
      ]
    },
    {
      "cell_type": "code",
      "source": [
        "# через find\n",
        "vacs_analytic2 = [ row for row in vacs if row['vactitle'].\n",
        "                        lower().find('аналитик данных') > -1 ]\n",
        "len(vacs_analytic2)"
      ],
      "metadata": {
        "colab": {
          "base_uri": "https://localhost:8080/"
        },
        "id": "cOw-J95ZWQt5",
        "outputId": "23e091bd-5954-463a-ca81-c51a0e1f16df"
      },
      "execution_count": null,
      "outputs": [
        {
          "output_type": "execute_result",
          "data": {
            "text/plain": [
              "21"
            ]
          },
          "metadata": {},
          "execution_count": 44
        }
      ]
    },
    {
      "cell_type": "code",
      "source": [
        "# Сколько вакансий для аналитика данных с использованием Python?\n",
        "vacs_analytic_python = [ row for row in vacs if row['vactitle'].\n",
        "                        lower().find('аналитик данных') > -1 and \n",
        "                        row['vacdescription'].\n",
        "                        lower().find('python') > -1 ]\n",
        "len(vacs_analytic_python)"
      ],
      "metadata": {
        "colab": {
          "base_uri": "https://localhost:8080/"
        },
        "id": "eP1kwfITL_jH",
        "outputId": "3d7023cc-f596-4835-f38a-fb645e1e1e62"
      },
      "execution_count": null,
      "outputs": [
        {
          "output_type": "execute_result",
          "data": {
            "text/plain": [
              "8"
            ]
          },
          "metadata": {},
          "execution_count": 45
        }
      ]
    },
    {
      "cell_type": "code",
      "source": [
        "vacs_analytic_python[0]"
      ],
      "metadata": {
        "colab": {
          "base_uri": "https://localhost:8080/"
        },
        "id": "wmItW5O1YP_5",
        "outputId": "2ca79d03-3e82-48df-f981-1cde4f475d4d"
      },
      "execution_count": null,
      "outputs": [
        {
          "output_type": "execute_result",
          "data": {
            "text/plain": [
              "OrderedDict([('id', '383700'),\n",
              "             ('created_at', '2021-03-14 09:39:21.854462'),\n",
              "             ('updated_at', '2021-03-14 09:39:21.854584'),\n",
              "             ('vacid', '1571444'),\n",
              "             ('vactitle',\n",
              "              'Data analyst. Аналитик данных в трайб «Массовая персонализация».'),\n",
              "             ('vacdescription',\n",
              "              'Обязанности:- анализ данных по процессам взаимодействия с клиентами Банка, эффективности кампаний продаж, достижению бизнес-показателей (средствами Teradata (SQL), Python, в перспективе - Hive, Impala, Spark)- подготовка презентаций в PowerPoint- поиск целевой аудитории для продвижения продуктов и сервисов Банка, выстраивание алгоритмов приоритизации предложений- разработка аналитической отчетности- построение и проверка бизнес-гипотез- визуализация данных, в том числе с использованием специализированных BI-инструментов (Qlik View)Требования к кандидатам:- высшее образование по направлению: прикладная математика/физика/ИТ/финансы- желателен опыт работы в банковской сфере, понимание внутрибанковских процессов и    знание банковских продуктов и услуг- отличное знание Excel (VBA будет являться преимуществом)- владение методами анализа данных и инструментами подготовки отчетности- опыт работы с базами данных, навыки написания сложных SQL-запросов (Teradata, Oracle, SAS, MS SQL)- опыт работы с инструментами визуализации данных является преимуществом (в идеале - Qlik View)- знание Python является преимуществомЧто мы предлагаем:- стабильную работу в высокопрофессиональной среде;- карьерный путь в головном офисе международной организации;- ДМС, фитнес-центр;- корпоративное обучение, курсы и тренинги;- современный офис (5 минут пешком от метро Кутузовская и МЦК), признанный лучшим среди новых офисов российских компаний в 2017 году- анализ данных по процессам взаимодействия с клиентами Банка, эффективности кампаний продаж, достижению бизнес-показателей (средствами Teradata (SQL), Python, в перспективе - Hive, Impala, Spark)- подготовка презентаций в PowerPoint- поиск целевой аудитории для продвижения продуктов и сервисов Банка, выстраивание алгоритмов приоритизации предложений- разработка аналитической отчетности- построение и проверка бизнес-гипотез- визуализация данных, в том числе с использованием специализированных BI-инструментов (Qlik View)Требования к кандидатам:- высшее образование по направлению: прикладная математика/физика/ИТ/финансы- желателен опыт работы в банковской сфере, понимание внутрибанковских процессов и    знание банковских продуктов и услуг- отличное знание Excel (VBA будет являться преимуществом)- владение методами анализа данных и инструментами подготовки отчетности- опыт работы с базами данных, навыки написания сложных SQL-запросов (Teradata, Oracle, SAS, MS SQL)- опыт работы с инструментами визуализации данных является преимуществом (в идеале - Qlik View)- знание Python является преимуществомЧто мы предлагаем:- стабильную работу в высокопрофессиональной среде;- карьерный путь в головном офисе международной организации;- ДМС, фитнес-центр;- корпоративное обучение, курсы и тренинги;- современный офис (5 минут пешком от метро Кутузовская и МЦК), признанный лучшим среди новых офисов российских компаний в 2017 году'),\n",
              "             ('vacdate', '2021-03-12'),\n",
              "             ('vacstatus', 'new'),\n",
              "             ('vaclink',\n",
              "              'https://my.sbertalents.ru/#/job-requisition/1571444')])"
            ]
          },
          "metadata": {},
          "execution_count": 46
        }
      ]
    }
  ],
  "metadata": {
    "kernelspec": {
      "display_name": "Python 3",
      "language": "python",
      "name": "python3"
    },
    "language_info": {
      "codemirror_mode": {
        "name": "ipython",
        "version": 3
      },
      "file_extension": ".py",
      "mimetype": "text/x-python",
      "name": "python",
      "nbconvert_exporter": "python",
      "pygments_lexer": "ipython3",
      "version": "3.8.5"
    },
    "colab": {
      "name": "without_pandas.ipynb",
      "provenance": [],
      "collapsed_sections": []
    }
  },
  "nbformat": 4,
  "nbformat_minor": 0
}