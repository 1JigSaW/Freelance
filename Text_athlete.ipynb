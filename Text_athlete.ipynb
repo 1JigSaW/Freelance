{
 "cells": [
  {
   "cell_type": "markdown",
   "metadata": {},
   "source": [
    "Импортируйте все нужные библиотеки(pandas, numpy) для работы с датасетом через import ..."
   ]
  },
  {
   "cell_type": "code",
   "execution_count": 2,
   "metadata": {},
   "outputs": [],
   "source": [
    "import numpy as np\n",
    "import pandas as pd\n",
    "import seaborn as sns\n",
    "from matplotlib import pyplot as plt"
   ]
  },
  {
   "cell_type": "markdown",
   "metadata": {},
   "source": [
    "Подключите датасет, который скачали через pd.read_csv('path')"
   ]
  },
  {
   "cell_type": "code",
   "execution_count": 65,
   "metadata": {},
   "outputs": [],
   "source": [
    "data = pd.read_csv('athlete_events.csv')"
   ]
  },
  {
   "cell_type": "markdown",
   "metadata": {},
   "source": [
    "Посмотрите первые 5 строк датасета через функцию head"
   ]
  },
  {
   "cell_type": "code",
   "execution_count": null,
   "metadata": {},
   "outputs": [],
   "source": []
  },
  {
   "cell_type": "markdown",
   "metadata": {},
   "source": [
    "1.Сколько лет было самым молодым мужчинам и женщинам среди участников Олимпийских игр 1996 года?"
   ]
  },
  {
   "cell_type": "markdown",
   "metadata": {},
   "source": [
    "Надо найти данные с возрастом, с годом, а также классифицировать по полу. В нашем случае это минимальный и максимальный возраст 1996 года. Пример я покажу с минимальным возрастом у женщин. Вам нужно сделать тоже самое, но с максимальным у женщин, а также с максимальным и минимальным у мужчин"
   ]
  },
  {
   "cell_type": "code",
   "execution_count": 14,
   "metadata": {},
   "outputs": [
    {
     "data": {
      "text/plain": [
       "14.0"
      ]
     },
     "execution_count": 14,
     "metadata": {},
     "output_type": "execute_result"
    }
   ],
   "source": [
    "data[(data['Sex'] == 'M') & (data['Year'] == 1996)]['Age'].min()"
   ]
  },
  {
   "cell_type": "code",
   "execution_count": null,
   "metadata": {},
   "outputs": [],
   "source": []
  },
  {
   "cell_type": "code",
   "execution_count": null,
   "metadata": {},
   "outputs": [],
   "source": []
  },
  {
   "cell_type": "code",
   "execution_count": null,
   "metadata": {},
   "outputs": [],
   "source": []
  },
  {
   "cell_type": "markdown",
   "metadata": {},
   "source": [
    "2.Каков был процент гимнастов среди мужчин - участников Олимпийских игр 2000 года?"
   ]
  },
  {
   "cell_type": "markdown",
   "metadata": {},
   "source": [
    "Сначала объедините в группу всех мужчин 2000 года в отдельную переменную.\n",
    "Нужно объединить запрос свзянный с полом, возрастом и с видом спорта(Sex, Year, Sport).Это я сделал сам для примера ПОсле этого нужно создать вторую переменную, где объеденить уже всех спортсменов 2000 года, мужчин. Это вы сделайте сами, аналогично моему примеру. В 3 строке вам надо поделить 1 переменную на вторую перменную и умножить на 100. Также можно округлить результат с помощью функции round(), которую вы изучи самостоятельно."
   ]
  },
  {
   "cell_type": "code",
   "execution_count": 2,
   "metadata": {},
   "outputs": [
    {
     "ename": "NameError",
     "evalue": "name 'data' is not defined",
     "output_type": "error",
     "traceback": [
      "\u001b[1;31m---------------------------------------------------------------------------\u001b[0m",
      "\u001b[1;31mNameError\u001b[0m                                 Traceback (most recent call last)",
      "\u001b[1;32m<ipython-input-2-532823441e5c>\u001b[0m in \u001b[0;36m<module>\u001b[1;34m\u001b[0m\n\u001b[1;32m----> 1\u001b[1;33m male_gymnast_2000_count = data[((data['Sport']=='Gymnastics'))\n\u001b[0m\u001b[0;32m      2\u001b[0m                     & (data['Sex'] == 'M') & (data['Year'] == 2000) ]['ID'].count()\n",
      "\u001b[1;31mNameError\u001b[0m: name 'data' is not defined"
     ]
    }
   ],
   "source": [
    "male_gymnast_2000_count = data[((data['Sport']=='Gymnastics'))\n",
    "                    & (data['Sex'] == 'M') & (data['Year'] == 2000) ]['ID'].count()"
   ]
  },
  {
   "cell_type": "code",
   "execution_count": null,
   "metadata": {},
   "outputs": [],
   "source": []
  },
  {
   "cell_type": "code",
   "execution_count": 37,
   "metadata": {},
   "outputs": [],
   "source": []
  },
  {
   "cell_type": "code",
   "execution_count": 38,
   "metadata": {},
   "outputs": [
    {
     "data": {
      "text/plain": [
       "0.07651966626936829"
      ]
     },
     "execution_count": 38,
     "metadata": {},
     "output_type": "execute_result"
    }
   ],
   "source": []
  },
  {
   "cell_type": "markdown",
   "metadata": {},
   "source": [
    "3.Каковы среднее и стандартное отклонение роста для баскетболисток, участвовавших в Олимпийских играх 2000 года? "
   ]
  },
  {
   "cell_type": "markdown",
   "metadata": {},
   "source": [
    "ТАкже, аналогично вышесказанному объеденить баскетболисток 2000 года. Затем через функцию describe получить все данные по заданию, либо через функцию std() и mean()"
   ]
  },
  {
   "cell_type": "code",
   "execution_count": null,
   "metadata": {},
   "outputs": [],
   "source": []
  },
  {
   "cell_type": "markdown",
   "metadata": {},
   "source": [
    "4.Найдите спортсмена-участника Олимпийских игр 2002 года с наибольшим весом среди других участников той же Олимпиады. Каким спортом он занимался? "
   ]
  },
  {
   "cell_type": "markdown",
   "metadata": {},
   "source": [
    "Все тоже самое. Делаем аналогично вышесказанному. Есть много аналогичных способов сделать это, но лучше как делали выше. План таков: отделяем датасет только за 2002 год(data[data.Year == 2002]), передаем в переменную.Затем находим максимальный вес(Weight) с помощью max(). А дальше из это строки вам надо вытащить вид спорта, которым он занимался."
   ]
  },
  {
   "cell_type": "code",
   "execution_count": null,
   "metadata": {},
   "outputs": [],
   "source": []
  },
  {
   "cell_type": "markdown",
   "metadata": {},
   "source": [
    "5.Сколько раз спортсмен PawBratkiewicz принимал участие в Олимпийских играх?"
   ]
  },
  {
   "cell_type": "markdown",
   "metadata": {},
   "source": [
    "МОжно сделать как выше, но лучше попробовать объединить через функцию groupby(), reset_index() и iloc(), которые лучше прогуглить. Данную функцию я напишу, а последующие задания на примере стоит разобрать самому."
   ]
  },
  {
   "cell_type": "code",
   "execution_count": 40,
   "metadata": {},
   "outputs": [
    {
     "data": {
      "text/plain": [
       "3"
      ]
     },
     "execution_count": 40,
     "metadata": {},
     "output_type": "execute_result"
    }
   ],
   "source": []
  },
  {
   "cell_type": "markdown",
   "metadata": {},
   "source": [
    "6.Сколько серебряных медалей в теннисе выиграла Австралия на Олимпийских играх 2000 года?"
   ]
  },
  {
   "cell_type": "markdown",
   "metadata": {},
   "source": [
    "Задание полностью аналогично остальным, думаю справитесь сами, если что пишите в телегу."
   ]
  },
  {
   "cell_type": "code",
   "execution_count": null,
   "metadata": {},
   "outputs": [],
   "source": []
  },
  {
   "cell_type": "markdown",
   "metadata": {},
   "source": [
    "7.Правда ли, что Швейцария выиграла меньше медалей, чем Сербия на Олимпийских играх 2016 года? Не учитывайте значения NaN в столбце Medal."
   ]
  },
  {
   "cell_type": "markdown",
   "metadata": {},
   "source": [
    "Здесь нужно найти сначала все медали у Швейцарии и передать в переменную, затем у Сербии. ЧТобы не показывались значения NAN, нужно использовать в конце функцию notnull() либо isnull() == False. Затем сравнить 2 переменных с помощью знака > или <"
   ]
  },
  {
   "cell_type": "code",
   "execution_count": null,
   "metadata": {},
   "outputs": [],
   "source": []
  },
  {
   "cell_type": "code",
   "execution_count": null,
   "metadata": {},
   "outputs": [],
   "source": []
  },
  {
   "cell_type": "markdown",
   "metadata": {},
   "source": [
    "8.К какой возрастной категории относилось меньше всего и больше всего участников Олимпийских игр 2014 года? Интервалы возрастных категорий: [15-25), [25-35), [35-45), [45-55)."
   ]
  },
  {
   "cell_type": "markdown",
   "metadata": {},
   "source": [
    "Каждый интервал нужно соотнести в свою переменную. ПРимер:"
   ]
  },
  {
   "cell_type": "code",
   "execution_count": 42,
   "metadata": {},
   "outputs": [],
   "source": [
    "data_interval = data[(data['Year'] == 2014)]\n",
    "t15_25 = data_interval[(data_interval['Age'] >= 15) & (data_interval['Age'] < 25)].shape[0]"
   ]
  },
  {
   "cell_type": "markdown",
   "metadata": {},
   "source": [
    "Остальные интервалы пропишите самостоятельно."
   ]
  },
  {
   "cell_type": "code",
   "execution_count": null,
   "metadata": {},
   "outputs": [],
   "source": []
  },
  {
   "cell_type": "markdown",
   "metadata": {},
   "source": [
    "Затем соотносим каждую категорию с нужным интервалом с помощью словарей(Надо знать что такое словари)."
   ]
  },
  {
   "cell_type": "code",
   "execution_count": null,
   "metadata": {},
   "outputs": [],
   "source": [
    "categories = {'[15-25)': t15_25, \n",
    "              '[25-35)': переменная интервала,\n",
    "              '[35-45]': переменная интервала, \n",
    "              '[45-55]': переменная интервала}"
   ]
  },
  {
   "cell_type": "markdown",
   "metadata": {},
   "source": [
    "Затем надо найти минимальные возрастные категории и максимальные с помощью знакомых функций min() и max()."
   ]
  },
  {
   "cell_type": "code",
   "execution_count": null,
   "metadata": {},
   "outputs": [],
   "source": [
    "min_age = min(categories.values())\n",
    "max_age = max(categories.values())"
   ]
  },
  {
   "cell_type": "markdown",
   "metadata": {},
   "source": [
    "Затем через цикл вам надо сравнить интервалы с минимальным и максимальным занчением. Попробуйте сами сделать. Вам надо посмотреть циклы со словарями., а также сравнение их с переменными min_age и max_age"
   ]
  },
  {
   "cell_type": "code",
   "execution_count": null,
   "metadata": {},
   "outputs": [],
   "source": []
  },
  {
   "cell_type": "markdown",
   "metadata": {},
   "source": [
    "9.Правда ли, что в Лейк-Плэсиде проводились летние Олимпийские игры? Правда ли, что в Санкт-Морице проводились зимние Олимпийские игры?"
   ]
  },
  {
   "cell_type": "markdown",
   "metadata": {},
   "source": [
    "Делайте то же, что и выше, только подставляем конструкцию if, else(которую надо знать)"
   ]
  },
  {
   "cell_type": "code",
   "execution_count": 47,
   "metadata": {},
   "outputs": [
    {
     "name": "stdout",
     "output_type": "stream",
     "text": [
      "NO\n"
     ]
    }
   ],
   "source": [
    "if data[(data['Season'] == 'Summer') & (data['City'] == 'Lake Placid')].shape[0] is True:\n",
    "    print('Yes')\n",
    "else: print('NO')"
   ]
  },
  {
   "cell_type": "markdown",
   "metadata": {},
   "source": [
    "Второй вопрос сделайте сами"
   ]
  },
  {
   "cell_type": "code",
   "execution_count": null,
   "metadata": {},
   "outputs": [],
   "source": []
  },
  {
   "cell_type": "markdown",
   "metadata": {},
   "source": [
    "10.Какова абсолютная разница между количеством уникальных видов спорта на Олимпийских играх 1996 года и Олимпийских играх 2016 года?"
   ]
  },
  {
   "cell_type": "markdown",
   "metadata": {},
   "source": [
    "Здесь нужно создать 2 переменные за 2016 и 1996 год. Не забудьте использовать unique() или drop_dublicates(), для выделения уникальных видов спорта."
   ]
  },
  {
   "cell_type": "code",
   "execution_count": null,
   "metadata": {},
   "outputs": [],
   "source": []
  },
  {
   "cell_type": "markdown",
   "metadata": {},
   "source": [
    "11.Есть ли корреляция между возрастом спортсмена и его спортивным результатом на Олимпиаде во всем датасете. Для каких видов спорта эта корреляция наиболее выражена? Меняется ли корреляции со временем - между играми до 1990-го года и после по всем видам спорта?"
   ]
  },
  {
   "cell_type": "markdown",
   "metadata": {},
   "source": [
    "Заменим все названия медалей, на значения int  с помощью функции replace, так как функция corr не работает со строковыми значениями."
   ]
  },
  {
   "cell_type": "code",
   "execution_count": 66,
   "metadata": {},
   "outputs": [],
   "source": [
    "data['Medal'].replace([np.nan, 'Bronze', 'Silver', 'Gold'], [0, 1, 2, 3], inplace=True) "
   ]
  },
  {
   "cell_type": "markdown",
   "metadata": {},
   "source": [
    "Корреляция выводится через функцию corr таким образом: df['A'].corr(df['B']). СДелайте по аналогии."
   ]
  },
  {
   "cell_type": "code",
   "execution_count": 68,
   "metadata": {},
   "outputs": [
    {
     "data": {
      "text/plain": [
       "0.02227148427040235"
      ]
     },
     "execution_count": 68,
     "metadata": {},
     "output_type": "execute_result"
    }
   ],
   "source": []
  },
  {
   "cell_type": "markdown",
   "metadata": {},
   "source": [
    "Лучше оформить графиком. С данным примером разберитесь самостоятельно, тут слишком много всего расписывать. Сами сделайте данный пункт по моему примеру: Меняется ли корреляции со временем - между играми до 1990-го года и после по всем видам спорта?"
   ]
  },
  {
   "cell_type": "code",
   "execution_count": 80,
   "metadata": {},
   "outputs": [
    {
     "data": {
      "image/png": "[encoded data removed]",
      "text/plain": [
       "<Figure size 432x288 with 2 Axes>"
      ]
     },
     "metadata": {
      "needs_background": "light"
     },
     "output_type": "display_data"
    }
   ],
   "source": [
    "piv = pd.pivot_table(\n",
    "    data, values=\"Medal\", index=[\"Age\"], columns=[\"Sport\"], fill_value=0\n",
    "    )\n",
    "m = piv.values\n",
    "ax = sns.heatmap(m, cmap=\"YlGnBu\")\n",
    "ax.set_xticklabels(list(piv.columns), fontsize = 9)\n",
    "ax.set_yticklabels(list(piv.index), fontsize = 9)\n",
    "plt.xticks(rotation=90)\n",
    "plt.yticks(rotation=360)\n",
    "ax.set_title('Number of athlets per year and sport (Winter Olympics)')\n",
    "plt.show()"
   ]
  },
  {
   "cell_type": "markdown",
   "metadata": {},
   "source": [
    "12.Какое самое популярное женское и мужское имя среди медалистов на Олимпийских играх?"
   ]
  },
  {
   "cell_type": "markdown",
   "metadata": {},
   "source": [
    "Данное задание предлагаю самостоятельно решить. АЛгоритм таков.Выделяйте по столбцам мужчин в первую переменную, женщин в другую. Разбивайте ФИО на столбцы ИМЯ, ФАМИЛИЯ, ОТЧЕСТВО с помощью split либо модуля re. Вариантов в интернете полно. Затем с помощью функции value_counts() подсчитывайте самое распостранненное имя. "
   ]
  },
  {
   "cell_type": "code",
   "execution_count": null,
   "metadata": {},
   "outputs": [],
   "source": []
  }
 ],
 "metadata": {
  "kernelspec": {
   "display_name": "Python 3",
   "language": "python",
   "name": "python3"
  },
  "language_info": {
   "codemirror_mode": {
    "name": "ipython",
    "version": 3
   },
   "file_extension": ".py",
   "mimetype": "text/x-python",
   "name": "python",
   "nbconvert_exporter": "python",
   "pygments_lexer": "ipython3",
   "version": "3.8.3"
  }
 },
 "nbformat": 4,
 "nbformat_minor": 4
}
